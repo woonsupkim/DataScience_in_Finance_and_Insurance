{
 "cells": [
  {
   "cell_type": "markdown",
   "id": "b145f5e9",
   "metadata": {},
   "source": [
    "### Assignment 5\n",
    "### Prepared By: Woon Kim\n",
    "### UNI: wk2371\n",
    "### Course: ACTU 5841\n",
    "### Date: February 27 2022"
   ]
  },
  {
   "cell_type": "code",
   "execution_count": 1,
   "id": "c74c7a8f",
   "metadata": {},
   "outputs": [],
   "source": [
    "import numpy as np\n",
    "import pandas as pd\n",
    "import matplotlib.pyplot as plt"
   ]
  },
  {
   "cell_type": "code",
   "execution_count": 2,
   "id": "da7b8ca9",
   "metadata": {},
   "outputs": [],
   "source": [
    "df = pd.read_csv('data.csv')"
   ]
  },
  {
   "cell_type": "code",
   "execution_count": 3,
   "id": "8573ffbc",
   "metadata": {},
   "outputs": [],
   "source": [
    "def calc_gradient(B, y, x):\n",
    "    B0 = B[0,0]\n",
    "    B1 = B[0,1]\n",
    "    \n",
    "    f0 = -2*np.exp(B0+B1*x)*(y-np.exp(B0+B1*x)) # SUM( -2*e^[B0+B1*x] * (y-e^[B0+B1*x]) )\n",
    "    f1 = -2*np.exp(B1*x+B0)*x*(y-np.exp(B0+B1*x)) #SUM( -2*e^[B1*x+B0]*x*(y-e^[B0+B1*x]) )\n",
    "    \n",
    "    return np.array([np.sum(f0), np.sum(f1)])\n",
    "\n",
    "def calc_Jacobian(B, y, x):\n",
    "    B0 = B[0,0]\n",
    "    B1 = B[0,1]\n",
    "    \n",
    "    df0b0 = -2* (np.exp(B0+B1*x)*y - 2*np.exp(2*B1*x+2*B0))\n",
    "    df0b1 = -2* (np.exp(B0+B1*x)*x*y - 2*np.exp(2*B1*x+2*B0)*x)\n",
    "    df1b0 = -2*x* (np.exp(B1*x+B0)*y - 2*np.exp(2*B1*x+2*B0))\n",
    "    df1b1 = -2*x* (np.exp(B1*x+B0)*x*y - 2*np.exp(2*B1*x+2*B0)*x)\n",
    "    \n",
    "    return np.array([\n",
    "            [np.sum(df0b0), np.sum(df0b1)], \n",
    "            [np.sum(df1b0), np.sum(df1b1)]\n",
    "            ])"
   ]
  },
  {
   "cell_type": "code",
   "execution_count": 4,
   "id": "6cc81596",
   "metadata": {},
   "outputs": [],
   "source": [
    "def newton_raphson(x, y, B, max_iter):\n",
    "    \n",
    "    loss_history = []\n",
    "    iteration = 0\n",
    "    B_history = [B]\n",
    "\n",
    "        \n",
    "    for i in range(max_iter):        \n",
    "        y_hat = np.exp(B[0,0] + B[0,1]*x)\n",
    "        loss = np.sum((y - y_hat)**2)\n",
    "                            \n",
    "        #stop if there are no improvements in the loss\n",
    "        if iteration > 0:\n",
    "            if np.abs(loss - loss_history[0]) == 0:\n",
    "                iteration = iteration - 1\n",
    "                break   \n",
    "        \n",
    "        #keep track of the loss for each iteration\n",
    "        loss_history.insert(0,loss)\n",
    "                \n",
    "        gradient = calc_gradient(B,y,x)\n",
    "        Jacobian = calc_Jacobian(B,y,x)\n",
    "        diff = np.matmul(np.linalg.inv(Jacobian),gradient)\n",
    "        \n",
    "        B = B - diff\n",
    "        B_history.append(B)\n",
    "\n",
    "        iteration = iteration + 1       \n",
    "        \n",
    "        \n",
    "                \n",
    "    return loss, B, iteration, loss_history, B_history"
   ]
  },
  {
   "cell_type": "code",
   "execution_count": 5,
   "id": "9bd2fa56",
   "metadata": {},
   "outputs": [],
   "source": [
    "x = df['x']\n",
    "y = df['y']\n",
    "B = np.array([0.5, 0.75])\n",
    "B = B.reshape(1,-1)"
   ]
  },
  {
   "cell_type": "code",
   "execution_count": 6,
   "id": "7f21a82a",
   "metadata": {},
   "outputs": [],
   "source": [
    "results = newton_raphson(x,y,B,10000)"
   ]
  },
  {
   "cell_type": "code",
   "execution_count": 7,
   "id": "d73ee605",
   "metadata": {},
   "outputs": [],
   "source": [
    "loss = results[0]\n",
    "B = results[1]\n",
    "iteration = results[2]\n",
    "loss_history = results[3]\n",
    "B_history = results[4]"
   ]
  },
  {
   "cell_type": "code",
   "execution_count": 8,
   "id": "dbb83ec3",
   "metadata": {},
   "outputs": [
    {
     "name": "stdout",
     "output_type": "stream",
     "text": [
      "The SSE at B_truth is\n",
      "SSE_truth = 12.014552846587636\n"
     ]
    }
   ],
   "source": [
    "#SSE at B_truth\n",
    "B_truth = np.array([1.0,0.5])\n",
    "B_truth = B_truth.reshape(1,-1)\n",
    "y_hat = np.exp(B_truth[0,0] + B_truth[0,1]*x)\n",
    "\n",
    "SSE_truth = np.sum((y-y_hat)**2)\n",
    "\n",
    "print('The SSE at B_truth is\\nSSE_truth = %s' % (SSE_truth))"
   ]
  },
  {
   "cell_type": "code",
   "execution_count": 9,
   "id": "feea1573",
   "metadata": {},
   "outputs": [
    {
     "name": "stdout",
     "output_type": "stream",
     "text": [
      "The smallest loss achieved is\n",
      "Loss = 12.000179409325268\n"
     ]
    }
   ],
   "source": [
    "#Smallest Loss Achieved\n",
    "print('The smallest loss achieved is\\nLoss = %s' % (round(loss,16)))"
   ]
  },
  {
   "cell_type": "code",
   "execution_count": 10,
   "id": "c4e0373f",
   "metadata": {},
   "outputs": [
    {
     "name": "stdout",
     "output_type": "stream",
     "text": [
      "The fitted parameters are\n",
      "B0 = 0.99835\n",
      "B1 = 0.50347\n"
     ]
    }
   ],
   "source": [
    "#fitted parameters\n",
    "B0 = round(B[0,0],5)\n",
    "B1 = round(B[0,1],5)\n",
    "print('The fitted parameters are\\nB0 = %s\\nB1 = %s' % (B0, B1))"
   ]
  },
  {
   "cell_type": "code",
   "execution_count": 11,
   "id": "54bb8a67",
   "metadata": {},
   "outputs": [
    {
     "name": "stdout",
     "output_type": "stream",
     "text": [
      "The number of iteration needed to reach this loss is\n",
      "Iteration = 7\n"
     ]
    }
   ],
   "source": [
    "#number of iteration\n",
    "print('The number of iteration needed to reach this loss is\\nIteration = %s' % (iteration))"
   ]
  },
  {
   "cell_type": "code",
   "execution_count": 12,
   "id": "14316934",
   "metadata": {},
   "outputs": [
    {
     "data": {
      "text/html": [
       "<div>\n",
       "<style scoped>\n",
       "    .dataframe tbody tr th:only-of-type {\n",
       "        vertical-align: middle;\n",
       "    }\n",
       "\n",
       "    .dataframe tbody tr th {\n",
       "        vertical-align: top;\n",
       "    }\n",
       "\n",
       "    .dataframe thead th {\n",
       "        text-align: right;\n",
       "    }\n",
       "</style>\n",
       "<table border=\"1\" class=\"dataframe\">\n",
       "  <thead>\n",
       "    <tr style=\"text-align: right;\">\n",
       "      <th></th>\n",
       "      <th>iteration</th>\n",
       "      <th>B_hat</th>\n",
       "      <th>loss</th>\n",
       "    </tr>\n",
       "  </thead>\n",
       "  <tbody>\n",
       "    <tr>\n",
       "      <th>0</th>\n",
       "      <td>0</td>\n",
       "      <td>[[0.5, 0.75]]</td>\n",
       "      <td>52.587876</td>\n",
       "    </tr>\n",
       "    <tr>\n",
       "      <th>1</th>\n",
       "      <td>1</td>\n",
       "      <td>[[1.5280388599029986, 0.20357574564890024]]</td>\n",
       "      <td>86.716261</td>\n",
       "    </tr>\n",
       "    <tr>\n",
       "      <th>2</th>\n",
       "      <td>2</td>\n",
       "      <td>[[1.1983577398897334, 0.38368613514774125]]</td>\n",
       "      <td>19.882687</td>\n",
       "    </tr>\n",
       "    <tr>\n",
       "      <th>3</th>\n",
       "      <td>3</td>\n",
       "      <td>[[1.0320987810358633, 0.48346502517498796]]</td>\n",
       "      <td>12.202874</td>\n",
       "    </tr>\n",
       "    <tr>\n",
       "      <th>4</th>\n",
       "      <td>4</td>\n",
       "      <td>[[0.999436529493238, 0.5028242642560683]]</td>\n",
       "      <td>12.000389</td>\n",
       "    </tr>\n",
       "    <tr>\n",
       "      <th>5</th>\n",
       "      <td>5</td>\n",
       "      <td>[[0.9983464120114138, 0.5034643991275811]]</td>\n",
       "      <td>12.000179</td>\n",
       "    </tr>\n",
       "    <tr>\n",
       "      <th>6</th>\n",
       "      <td>6</td>\n",
       "      <td>[[0.9983452317478493, 0.5034650911086407]]</td>\n",
       "      <td>12.000179</td>\n",
       "    </tr>\n",
       "    <tr>\n",
       "      <th>7</th>\n",
       "      <td>7</td>\n",
       "      <td>[[0.9983452317464654, 0.5034650911094519]]</td>\n",
       "      <td>12.000179</td>\n",
       "    </tr>\n",
       "  </tbody>\n",
       "</table>\n",
       "</div>"
      ],
      "text/plain": [
       "   iteration                                        B_hat       loss\n",
       "0          0                                [[0.5, 0.75]]  52.587876\n",
       "1          1  [[1.5280388599029986, 0.20357574564890024]]  86.716261\n",
       "2          2  [[1.1983577398897334, 0.38368613514774125]]  19.882687\n",
       "3          3  [[1.0320987810358633, 0.48346502517498796]]  12.202874\n",
       "4          4    [[0.999436529493238, 0.5028242642560683]]  12.000389\n",
       "5          5   [[0.9983464120114138, 0.5034643991275811]]  12.000179\n",
       "6          6   [[0.9983452317478493, 0.5034650911086407]]  12.000179\n",
       "7          7   [[0.9983452317464654, 0.5034650911094519]]  12.000179"
      ]
     },
     "execution_count": 12,
     "metadata": {},
     "output_type": "execute_result"
    }
   ],
   "source": [
    "#table\n",
    "iteration2 = np.arange(0,iteration+2, 1)\n",
    "df2 = pd.DataFrame(list(zip(iteration2, B_history, np.flip(loss_history))),\n",
    "                   columns = ['iteration', 'B_hat', 'loss'])\n",
    "df2"
   ]
  },
  {
   "cell_type": "code",
   "execution_count": 13,
   "id": "0a01d3b5",
   "metadata": {},
   "outputs": [
    {
     "name": "stderr",
     "output_type": "stream",
     "text": [
      "C:\\Users\\Woon\\Documents\\env_ds_3_10\\lib\\site-packages\\matplotlib\\text.py:1223: FutureWarning: elementwise comparison failed; returning scalar instead, but in the future will perform elementwise comparison\n",
      "  if s != self._text:\n"
     ]
    },
    {
     "data": {
      "image/png": "[encoded data removed]",
      "text/plain": [
       "<Figure size 864x144 with 1 Axes>"
      ]
     },
     "metadata": {
      "needs_background": "light"
     },
     "output_type": "display_data"
    }
   ],
   "source": [
    "#saving table into an image for the writeup\n",
    "from pandas.plotting import table\n",
    "\n",
    "fig, ax = plt.subplots(figsize=(12, 2))\n",
    "ax.xaxis.set_visible(False) \n",
    "ax.yaxis.set_visible(False) \n",
    "ax.set_frame_on(False)  \n",
    "tabla = table(ax, df2, loc='upper right', colWidths=[0.3]*len(df2.columns)) \n",
    "tabla.auto_set_font_size(False) \n",
    "tabla.set_fontsize(15) \n",
    "tabla.scale(1.2, 2) \n",
    "plt.savefig('table.png', transparent=True)"
   ]
  },
  {
   "cell_type": "code",
   "execution_count": 14,
   "id": "b69747c4",
   "metadata": {},
   "outputs": [
    {
     "data": {
      "image/png": "[encoded data removed]",
      "text/plain": [
       "<Figure size 432x288 with 1 Axes>"
      ]
     },
     "metadata": {
      "needs_background": "light"
     },
     "output_type": "display_data"
    }
   ],
   "source": [
    "#plot\n",
    "y_truth = np.exp(1.0+0.5*x)\n",
    "y_fitted = np.exp(B[0,0] + B[0,1]*x)\n",
    "\n",
    "plt.scatter(x,y, label = \"observations\", alpha=0.5)\n",
    "plt.plot(x,y_truth, label = \"truth\")\n",
    "plt.plot(x,y_fitted, label = \"fitted\")\n",
    "plt.legend(loc=\"upper left\")\n",
    "plt.plot\n",
    "plt.xlabel('x')\n",
    "plt.ylabel('y')\n",
    "#plt.show()\n",
    "\n",
    "plt.tight_layout()\n",
    "plt.savefig(\"Q5.png\")"
   ]
  },
  {
   "cell_type": "code",
   "execution_count": 16,
   "id": "4c10e70d",
   "metadata": {},
   "outputs": [
    {
     "name": "stdout",
     "output_type": "stream",
     "text": [
      "The estimated RMSE via LOOCV is\n",
      "RMSE = 0.49019491728469883\n"
     ]
    }
   ],
   "source": [
    "#RMSE\n",
    "RMSE = np.sqrt(((y_hat - y) ** 2).mean())\n",
    "print('The estimated RMSE via LOOCV is\\nRMSE = %s' % (RMSE))"
   ]
  },
  {
   "cell_type": "code",
   "execution_count": 17,
   "id": "54b10149",
   "metadata": {},
   "outputs": [
    {
     "data": {
      "text/plain": [
       "0.49019491728469883"
      ]
     },
     "execution_count": 17,
     "metadata": {},
     "output_type": "execute_result"
    }
   ],
   "source": [
    "#confirmed with the function in sklearn\n",
    "from sklearn.metrics import mean_squared_error\n",
    "mean_squared_error(y, y_hat, squared=False)"
   ]
  },
  {
   "cell_type": "code",
   "execution_count": 18,
   "id": "8768b74d",
   "metadata": {},
   "outputs": [],
   "source": [
    "#10 Fold CV\n",
    "x = df['x']\n",
    "y = df['y']\n",
    "B = np.array([0.5, 0.75])\n",
    "B = B.reshape(1,-1)\n",
    "kf_df = pd.DataFrame(zip(x,y), columns = ['x', 'y'])\n",
    "\n",
    "from sklearn.model_selection import KFold\n",
    "kf = KFold(n_splits = 10, shuffle = True, random_state = 10)\n",
    "kf_rmse = []\n",
    "\n",
    "for train, test in kf.split(kf_df):\n",
    "    X_train, X_test = x[train], x[test]\n",
    "    y_train, y_test = y[train], y[test]\n",
    "    nr = newton_raphson(X_train,y_train,B,10000)\n",
    "    y_hat = np.exp(nr[1][0,1] + nr[1][0,1]*X_test)\n",
    "    kf_rmse.append(mean_squared_error(y_test, y_hat, squared=False))\n",
    "\n",
    "kf_RMSE = (1/10) * np.sum(kf_rmse)"
   ]
  },
  {
   "cell_type": "code",
   "execution_count": 19,
   "id": "57be093c",
   "metadata": {},
   "outputs": [
    {
     "name": "stdout",
     "output_type": "stream",
     "text": [
      "The estimated RMSE via 10-fold CV is\n",
      "RMSE = 1.9276722948217175\n"
     ]
    }
   ],
   "source": [
    "print('The estimated RMSE via 10-fold CV is\\nRMSE = %s' % (kf_RMSE))"
   ]
  }
 ],
 "metadata": {
  "kernelspec": {
   "display_name": "env_ds_3_10",
   "language": "python",
   "name": "env_ds_3_10"
  },
  "language_info": {
   "codemirror_mode": {
    "name": "ipython",
    "version": 3
   },
   "file_extension": ".py",
   "mimetype": "text/x-python",
   "name": "python",
   "nbconvert_exporter": "python",
   "pygments_lexer": "ipython3",
   "version": "3.10.1"
  }
 },
 "nbformat": 4,
 "nbformat_minor": 5
}
