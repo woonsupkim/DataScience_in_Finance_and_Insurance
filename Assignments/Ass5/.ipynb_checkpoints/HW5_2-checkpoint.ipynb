{
 "cells": [
  {
   "cell_type": "code",
   "execution_count": 1,
   "id": "2635fa38",
   "metadata": {},
   "outputs": [],
   "source": [
    "import numpy as np\n",
    "import pandas as pd\n",
    "import matplotlib.pyplot as plt"
   ]
  },
  {
   "cell_type": "code",
   "execution_count": 2,
   "id": "58d49f57",
   "metadata": {},
   "outputs": [],
   "source": [
    "df = pd.read_csv('data.csv')"
   ]
  },
  {
   "cell_type": "code",
   "execution_count": 22,
   "id": "de40884b",
   "metadata": {},
   "outputs": [],
   "source": [
    "def newton(x, y, B, max_iter):\n",
    "    \n",
    "    loss_history = []\n",
    "    iteration = 0\n",
    "    B_history = [B]\n",
    "\n",
    "        \n",
    "    for i in range(max_iter):\n",
    "        iteration = iteration + 1\n",
    "        \n",
    "        gradient = np.array([\n",
    "            np.sum(-2*np.exp(B[0,0]+B[0,1]*x)*(y-np.exp(B[0,0]+B[0,1]*x))),\n",
    "            np.sum(-2*np.exp(B[0,1]*x+B[0,0])*x*(y-np.exp(B[0,0]+B[0,1]*x)))\n",
    "        ])\n",
    "        \n",
    "        Jacobian = np.array([\n",
    "            [np.sum(-2* (np.exp(B[0,0]+B[0,1]*x)*y - 2*np.exp(2*B[0,1]*x+2*B[0,0]))), \n",
    "             np.sum(-2* (np.exp(B[0,0]+B[0,1]*x)*x*y - 2*np.exp(2*B[0,1]*x+2*B[0,0])*x))],\n",
    "            \n",
    "            [np.sum(-2*x* (np.exp(B[0,1]*x+B[0,0])*y - 2*np.exp(2*B[0,1]*x+2*B[0,0]))), \n",
    "             np.sum(-2*x* (np.exp(B[0,1]*x+B[0,0])*x*y - 2*np.exp(2*B[0,1]*x+2*B[0,0])*x))]\n",
    "            ])\n",
    "        \n",
    "        \n",
    "        y_hat = np.exp(B[0,0] + B[0,1]*x)\n",
    "\n",
    "        loss = np.sum((y - y_hat)**2)\n",
    "        \n",
    "        \n",
    "        \n",
    "                \n",
    "        diff = np.matmul(np.linalg.inv(Jacobian),gradient)\n",
    "        \n",
    "        B = B - diff\n",
    "        B_history.append(B)\n",
    "    \n",
    "        \n",
    "        if iteration > 1:\n",
    "            if np.abs(loss - loss_history[0]) == 0:\n",
    "                break         \n",
    "                \n",
    "        loss_history.insert(0,loss)\n",
    "                \n",
    "    return loss, B, iteration, loss_history, B_history"
   ]
  },
  {
   "cell_type": "code",
   "execution_count": 23,
   "id": "39b19542",
   "metadata": {},
   "outputs": [],
   "source": [
    "x = df['x']\n",
    "y = df['y']\n",
    "B = np.array([0.5, 0.75])\n",
    "B = B.reshape(1,-1)"
   ]
  },
  {
   "cell_type": "code",
   "execution_count": 24,
   "id": "438879d2",
   "metadata": {},
   "outputs": [],
   "source": [
    "NR = newton(x,y,B,10000)"
   ]
  },
  {
   "cell_type": "code",
   "execution_count": 29,
   "id": "24eb7fac",
   "metadata": {},
   "outputs": [
    {
     "data": {
      "text/plain": [
       "(12.000179409325268,\n",
       " array([[0.99834523, 0.50346509]]),\n",
       " 9,\n",
       " [12.000179409325268,\n",
       "  12.00017940932527,\n",
       "  12.000179409570165,\n",
       "  12.00038858703934,\n",
       "  12.2028742723291,\n",
       "  19.88268730181391,\n",
       "  86.7162610628767,\n",
       "  52.58787640324584],\n",
       " [array([[0.5 , 0.75]]),\n",
       "  array([[1.52803886, 0.20357575]]),\n",
       "  array([[1.19835774, 0.38368614]]),\n",
       "  array([[1.03209878, 0.48346503]]),\n",
       "  array([[0.99943653, 0.50282426]]),\n",
       "  array([[0.99834641, 0.5034644 ]]),\n",
       "  array([[0.99834523, 0.50346509]]),\n",
       "  array([[0.99834523, 0.50346509]]),\n",
       "  array([[0.99834523, 0.50346509]]),\n",
       "  array([[0.99834523, 0.50346509]])])"
      ]
     },
     "execution_count": 29,
     "metadata": {},
     "output_type": "execute_result"
    }
   ],
   "source": [
    "NR"
   ]
  },
  {
   "cell_type": "code",
   "execution_count": 31,
   "id": "27e34767",
   "metadata": {},
   "outputs": [
    {
     "data": {
      "image/png": "[encoded data removed]",
      "text/plain": [
       "<Figure size 432x288 with 1 Axes>"
      ]
     },
     "metadata": {
      "needs_background": "light"
     },
     "output_type": "display_data"
    }
   ],
   "source": [
    "y_truth = np.exp(1.0+0.5*x)\n",
    "y_fitted = np.exp(NR[1][0,0] + NR[1][0,1]*x)\n",
    "\n",
    "plt.scatter(x,y, label = \"observations\", alpha=0.5)\n",
    "plt.plot(x,y_truth, label = \"truth\")\n",
    "plt.plot(x,y_fitted, label = \"fitted\")\n",
    "plt.legend(loc=\"upper left\")\n",
    "plt.plot\n",
    "plt.xlabel('x')\n",
    "plt.ylabel('y')\n",
    "#plt.show()\n",
    "\n",
    "plt.tight_layout()\n",
    "plt.savefig(\"Q6.png\")"
   ]
  },
  {
   "cell_type": "code",
   "execution_count": 33,
   "id": "8008c70d",
   "metadata": {},
   "outputs": [
    {
     "data": {
      "text/plain": [
       "0.48990161072046434"
      ]
     },
     "execution_count": 33,
     "metadata": {},
     "output_type": "execute_result"
    }
   ],
   "source": [
    "from sklearn.metrics import mean_squared_error\n",
    "mean_squared_error(y, y_fitted, squared=False)"
   ]
  }
 ],
 "metadata": {
  "kernelspec": {
   "display_name": "env_ds_3_10",
   "language": "python",
   "name": "env_ds_3_10"
  },
  "language_info": {
   "codemirror_mode": {
    "name": "ipython",
    "version": 3
   },
   "file_extension": ".py",
   "mimetype": "text/x-python",
   "name": "python",
   "nbconvert_exporter": "python",
   "pygments_lexer": "ipython3",
   "version": "3.10.1"
  }
 },
 "nbformat": 4,
 "nbformat_minor": 5
}
