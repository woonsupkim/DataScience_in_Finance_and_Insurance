{
 "cells": [
  {
   "cell_type": "markdown",
   "id": "f0838993",
   "metadata": {},
   "source": [
    "### Assignment 8\n",
    "### Prepared By: Woon Kim\n",
    "### UNI: wk2371\n",
    "### Course: ACTU 5841\n",
    "### Date: April 3 2022"
   ]
  },
  {
   "cell_type": "code",
   "execution_count": 1,
   "id": "d672eb4e",
   "metadata": {},
   "outputs": [],
   "source": [
    "#Importing libraries\n",
    "import pandas as pd\n",
    "import numpy as np"
   ]
  },
  {
   "cell_type": "code",
   "execution_count": 2,
   "id": "208c70e0",
   "metadata": {},
   "outputs": [],
   "source": [
    "df = pd.read_csv('data.csv')"
   ]
  },
  {
   "cell_type": "code",
   "execution_count": 3,
   "id": "c471c614",
   "metadata": {},
   "outputs": [],
   "source": [
    "#function to estimate PDF of quantitative features\n",
    "\n",
    "def fit_distribution(data):\n",
    "    # estimate parameters\n",
    "    mean = np.mean(data)\n",
    "    sd = np.std(data)\n",
    "    size = max(df['Age'])\n",
    "    \n",
    "    # fit distribution\n",
    "    dist = np.random.normal(loc = mean, scale = sd, size = size)\n",
    "    return dist"
   ]
  },
  {
   "cell_type": "code",
   "execution_count": 4,
   "id": "832e287d",
   "metadata": {},
   "outputs": [],
   "source": [
    "#Calculating the prior probabilities of all classes\n",
    "pi_I = df['Outcome'].value_counts()['I'] / len(df['Outcome'])\n",
    "pi_G = df['Outcome'].value_counts()['G'] / len(df['Outcome'])\n",
    "pi_E = df['Outcome'].value_counts()['E'] / len(df['Outcome'])"
   ]
  },
  {
   "cell_type": "code",
   "execution_count": 5,
   "id": "a334dae5",
   "metadata": {},
   "outputs": [],
   "source": [
    "df_I = df[df['Outcome'] == 'I']\n",
    "df_G = df[df['Outcome'] == 'G']\n",
    "df_E = df[df['Outcome'] == 'E']\n",
    "\n",
    "#Calculating the prior probabilities of all classes\n",
    "pi_I = len(df_I) / len(df['Outcome'])\n",
    "pi_G = len(df_G) / len(df['Outcome'])\n",
    "pi_E = len(df_E) / len(df['Outcome'])"
   ]
  },
  {
   "cell_type": "code",
   "execution_count": 6,
   "id": "cc98b9e2",
   "metadata": {},
   "outputs": [],
   "source": [
    "#Calculating the PDF of the feature AGE for all classes\n",
    "XyI = fit_distribution(df_I['Age'])\n",
    "XyG = fit_distribution(df_G['Age'])\n",
    "XyE = fit_distribution(df_E['Age'])"
   ]
  },
  {
   "cell_type": "code",
   "execution_count": 7,
   "id": "8a9bd78b",
   "metadata": {},
   "outputs": [],
   "source": [
    "#The PDF value at AGE = 50\n",
    "f_G50 = XyG[49]\n",
    "f_I50 = XyI[49]\n",
    "f_E50 = XyE[49]"
   ]
  },
  {
   "cell_type": "code",
   "execution_count": 8,
   "id": "2eb210c2",
   "metadata": {},
   "outputs": [],
   "source": [
    "#Calculating PDF of each of the categories in feature TREATMENT for all classes\n",
    "f_GA = len(df_G[df_G['Treatment'] == 'A']) / len(df_G)\n",
    "f_IA = len(df_I[df_I['Treatment'] == 'A']) / len(df_I)\n",
    "f_EA = len(df_E[df_E['Treatment'] == 'A']) / len(df_E)\n",
    "\n",
    "f_GB = len(df_G[df_G['Treatment'] == 'B']) / len(df_G)\n",
    "f_IB = len(df_I[df_I['Treatment'] == 'B']) / len(df_I)\n",
    "f_EB = len(df_E[df_E['Treatment'] == 'B']) / len(df_E)\n",
    "\n",
    "f_GC = len(df_G[df_G['Treatment'] == 'C']) / len(df_G)\n",
    "f_IC = len(df_I[df_I['Treatment'] == 'C']) / len(df_I)\n",
    "f_EC = len(df_E[df_E['Treatment'] == 'C']) / len(df_E)"
   ]
  },
  {
   "cell_type": "code",
   "execution_count": 9,
   "id": "f8912fca",
   "metadata": {},
   "outputs": [
    {
     "data": {
      "text/plain": [
       "0.580254"
      ]
     },
     "execution_count": 9,
     "metadata": {},
     "output_type": "execute_result"
    }
   ],
   "source": [
    "#Probability that TREATMENT A will be GOOD for AGE=50\n",
    "P_G_50A = (pi_G * f_G50 * f_GA) / (pi_G * f_G50 * f_GA + pi_I * f_I50 * f_IA + pi_E * f_E50 * f_EA)\n",
    "round(P_G_50A ,6)"
   ]
  },
  {
   "cell_type": "code",
   "execution_count": 10,
   "id": "6e8f5544",
   "metadata": {},
   "outputs": [
    {
     "data": {
      "text/plain": [
       "0.419746"
      ]
     },
     "execution_count": 10,
     "metadata": {},
     "output_type": "execute_result"
    }
   ],
   "source": [
    "#Probability that TREATMENT A will be EXCELLENT for AGE=50\n",
    "P_E_50A = (pi_E * f_E50 * f_EA) / (pi_G * f_G50 * f_GA + pi_I * f_I50 * f_IA + pi_E * f_E50 * f_EA)\n",
    "round(P_E_50A,6)"
   ]
  },
  {
   "cell_type": "code",
   "execution_count": 11,
   "id": "60bbf406",
   "metadata": {},
   "outputs": [
    {
     "data": {
      "text/plain": [
       "0.650097"
      ]
     },
     "execution_count": 11,
     "metadata": {},
     "output_type": "execute_result"
    }
   ],
   "source": [
    "#Probability that TREATMENT B will be GOOD for AGE=50\n",
    "P_G_50B = (pi_G * f_G50 * f_GB) / (pi_G * f_G50 * f_GB + pi_I * f_I50 * f_IB + pi_E * f_E50 * f_EB)\n",
    "round(P_G_50B,6)"
   ]
  },
  {
   "cell_type": "code",
   "execution_count": 12,
   "id": "c2bd7d9a",
   "metadata": {},
   "outputs": [
    {
     "data": {
      "text/plain": [
       "0.0"
      ]
     },
     "execution_count": 12,
     "metadata": {},
     "output_type": "execute_result"
    }
   ],
   "source": [
    "#Probability that TREATMENT B will be EXCELLENT for AGE=50\n",
    "P_E_50B = (pi_E * f_E50 * f_EB) / (pi_G * f_G50 * f_GB + pi_I * f_I50 * f_IB + pi_E * f_E50 * f_EB)\n",
    "round(P_E_50B,6)"
   ]
  },
  {
   "cell_type": "code",
   "execution_count": 13,
   "id": "25cf0dcd",
   "metadata": {},
   "outputs": [
    {
     "data": {
      "text/plain": [
       "0.283831"
      ]
     },
     "execution_count": 13,
     "metadata": {},
     "output_type": "execute_result"
    }
   ],
   "source": [
    "#Probability that TREATMENT C will be GOOD for AGE=50\n",
    "P_G_50C = (pi_G * f_G50 * f_GC) / (pi_G * f_G50 * f_GC + pi_I * f_I50 * f_IC + pi_E * f_E50 * f_EC)\n",
    "round(P_G_50C,6)"
   ]
  },
  {
   "cell_type": "code",
   "execution_count": 14,
   "id": "2607383e",
   "metadata": {},
   "outputs": [
    {
     "data": {
      "text/plain": [
       "0.410636"
      ]
     },
     "execution_count": 14,
     "metadata": {},
     "output_type": "execute_result"
    }
   ],
   "source": [
    "#Probability that TREATMENT C will be EXCELLENT for AGE=50\n",
    "P_E_50C = (pi_E * f_E50 * f_EC) / (pi_G * f_G50 * f_GC + pi_I * f_I50 * f_IC + pi_E * f_E50 * f_EC)\n",
    "round(P_E_50C,6)"
   ]
  },
  {
   "cell_type": "code",
   "execution_count": 15,
   "id": "4b4d9a0b",
   "metadata": {},
   "outputs": [],
   "source": [
    "# part b\n",
    "# scoring\n",
    "I = 0\n",
    "G = 2\n",
    "E = 5"
   ]
  },
  {
   "cell_type": "code",
   "execution_count": 16,
   "id": "23e04ff0",
   "metadata": {},
   "outputs": [
    {
     "data": {
      "text/plain": [
       "3.259236881389563"
      ]
     },
     "execution_count": 16,
     "metadata": {},
     "output_type": "execute_result"
    }
   ],
   "source": [
    "#treatment A\n",
    "P_G_50A * G + P_E_50A * E"
   ]
  },
  {
   "cell_type": "code",
   "execution_count": 17,
   "id": "76e30610",
   "metadata": {},
   "outputs": [
    {
     "data": {
      "text/plain": [
       "1.3001937586305772"
      ]
     },
     "execution_count": 17,
     "metadata": {},
     "output_type": "execute_result"
    }
   ],
   "source": [
    "#treatment B\n",
    "P_G_50B * G + P_E_50B * E"
   ]
  },
  {
   "cell_type": "code",
   "execution_count": 18,
   "id": "4ff43107",
   "metadata": {},
   "outputs": [
    {
     "data": {
      "text/plain": [
       "2.6208406184470583"
      ]
     },
     "execution_count": 18,
     "metadata": {},
     "output_type": "execute_result"
    }
   ],
   "source": [
    "#treatment C\n",
    "P_G_50C * G + P_E_50C * E"
   ]
  }
 ],
 "metadata": {
  "kernelspec": {
   "display_name": "env_ds_3_10",
   "language": "python",
   "name": "env_ds_3_10"
  },
  "language_info": {
   "codemirror_mode": {
    "name": "ipython",
    "version": 3
   },
   "file_extension": ".py",
   "mimetype": "text/x-python",
   "name": "python",
   "nbconvert_exporter": "python",
   "pygments_lexer": "ipython3",
   "version": "3.10.1"
  }
 },
 "nbformat": 4,
 "nbformat_minor": 5
}
