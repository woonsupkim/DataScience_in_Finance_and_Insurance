{
 "cells": [
  {
   "cell_type": "code",
   "execution_count": 1,
   "id": "30fc94ff",
   "metadata": {},
   "outputs": [
    {
     "name": "stdout",
     "output_type": "stream",
     "text": [
      "Y:  [-51.964501893483515, -82.3577509145257, 80.1161807591177, -23.742024519548174, -38.1211858372128, 47.28971539628502, -85.45835989992254, 95.9345184434766, 108.40694550349681, 17.86664786887021, 105.33672366252975, 93.72945258818658, 54.239392011519314, -26.138571783430105, 74.50021307863453, -51.7667061688337, 30.16762946124473, -55.257141018274524, -57.45854046458376, -75.23193903384349, -25.697444216700838, 102.52317871644009, -36.55413770268434, 87.88447115749051, -28.807726457336614, 0.7228952146533274, 5.234746404971691, -43.50368798123147, 3.019123239126936, 5.096811217014088, -35.330397599021296, 81.29844839352357, 61.129682807506015, -70.28947683604605, 20.122116243499857, -48.17887897819926, 69.16689386124645, -39.02336396569186, 2.8011421580119196, -74.41873928326561, 53.93343926979763, -90.67490410265869, 54.6337693522357, 58.57342394470709, -28.419707281933782, 131.65899692263798, 58.17216109222457, 46.89708295966586, 75.27496437474113, -29.04282459760197]\n"
     ]
    }
   ],
   "source": [
    "# Question 1\n",
    "import random\n",
    "\n",
    "X = list()\n",
    "E = list()\n",
    "Y = list()\n",
    "\n",
    "for i in range(50):\n",
    "    X.append(random.uniform(-200,200))\n",
    "    E.append(random.gauss(0,20))\n",
    "\n",
    "X_temp = list(map(lambda x: x * 0.5, X))\n",
    "\n",
    "X_temp2 = list(map(lambda x: x + 10, X_temp))\n",
    "\n",
    "for i in range(len(X_temp2)):\n",
    "    Y.append(X_temp2[i] + E[i])\n",
    "\n",
    "print('Y: ', Y)"
   ]
  },
  {
   "cell_type": "code",
   "execution_count": 2,
   "id": "89995cba",
   "metadata": {},
   "outputs": [
    {
     "name": "stdout",
     "output_type": "stream",
     "text": [
      "Yhat:  [-37.53553635235472, -54.75474827491903, 53.29464900781353, -10.891680368824256, -1.2326182680295794, 38.66080720663734, -74.75126665120557, 104.40849892385283, 96.75069030796321, -22.08414696671438, 75.58938297117254, 76.33350872065428, 36.195802661644855, -43.83720438751835, 82.17809863426123, -65.83163531628324, 58.18044086010894, -67.9555842820031, -76.27681819332366, -74.33902676388209, -36.881990837462425, 97.71557926389632, -56.096831149110265, 92.88697341625588, -7.226151830650169, -19.399875954387667, 1.049911537368966, -29.474868546911516, 3.641821604599989, 1.295857375155241, -36.06861178902356, 41.605344514617705, 75.13652419964568, -26.57923692521664, 9.402697391556442, -53.97635166927701, 72.18041683520912, -41.18334372486753, -2.167811986521855, -35.199128729616255, 75.34150523515808, -76.01203921977239, 65.27136085176504, 64.06289321202279, -62.74911996560579, 98.57873067571946, 71.9264718534697, 79.25878212992203, 63.12607030306535, 6.7255640267700905]\n"
     ]
    }
   ],
   "source": [
    "#Question 2\n",
    "import statistics\n",
    "n = 50\n",
    "Xavg = statistics.mean(X)\n",
    "Xdelta = list()\n",
    "Xdelta_sq = list()\n",
    "\n",
    "for i in range(len(X)):\n",
    "    Xdelta.append(X[i]-Xavg)\n",
    "\n",
    "for i in range(len(Xdelta)):\n",
    "    Xdelta_sq.append(Xdelta[i]**2)\n",
    "\n",
    "Xsum = sum(Xdelta_sq)\n",
    "S = 1/(n-1) * Xsum\n",
    "\n",
    "\n",
    "\n",
    "w = list()\n",
    "const = 1/((n-1)*S)\n",
    "w = list(map(lambda x: x * const, Xdelta))\n",
    "\n",
    "\n",
    "prod = list()\n",
    "for i in range(len(w)):\n",
    "    prod.append(w[i] * Y[i])\n",
    "B1 = sum(prod)\n",
    "\n",
    "\n",
    "Yavg = statistics.mean(Y)\n",
    "B0 = Yavg - B1*Xavg\n",
    "\n",
    "\n",
    "#Yhat = B0 + B1*xi\n",
    "Yhat = list()\n",
    "B1X = list(map(lambda x: x * B1, X))\n",
    "for i in range(len(X)):\n",
    "    Yhat.append(B0 + B1X[i])\n",
    "\n",
    "print('Yhat: ', Yhat)"
   ]
  },
  {
   "cell_type": "code",
   "execution_count": 3,
   "id": "a8dc7ce3",
   "metadata": {},
   "outputs": [
    {
     "name": "stdout",
     "output_type": "stream",
     "text": [
      "R2:  0.8871619918414712\n"
     ]
    }
   ],
   "source": [
    "#Question 3\n",
    "Yhat_delta = list()\n",
    "Yhat_delta_sq = list()\n",
    "\n",
    "for i in range(len(Yhat)):\n",
    "    Yhat_delta.append(Yhat[i]-Yavg)\n",
    "\n",
    "for i in range(len(Yhat_delta)):\n",
    "    Yhat_delta_sq.append(Yhat_delta[i]**2)\n",
    "\n",
    "RSS = sum(Yhat_delta_sq)\n",
    "\n",
    "\n",
    "Ydelta = list()\n",
    "Ydelta_sq = list()\n",
    "\n",
    "for i in range(len(Y)):\n",
    "    Ydelta.append(Y[i]-Yavg)\n",
    "\n",
    "for i in range(len(Ydelta)):\n",
    "    Ydelta_sq.append(Ydelta[i]**2)\n",
    "\n",
    "TSS = sum(Ydelta_sq)\n",
    "\n",
    "\n",
    "R2 = RSS/TSS\n",
    "\n",
    "print('R2: ', R2)"
   ]
  },
  {
   "cell_type": "code",
   "execution_count": 4,
   "id": "f645bb7e",
   "metadata": {},
   "outputs": [],
   "source": [
    "import turtle as t\n",
    "t.Screen()\n",
    "t.screensize(600,300)\n",
    "\n",
    "#draw axis\n",
    "t.color('black')\n",
    "t.penup(); t.goto(-600,0); t.pendown(), t.forward(1200), t.stamp()\n",
    "t.penup(); t.seth(90); t.goto(0,-600); t.pendown(), t.forward(1200), t.stamp()\n",
    "\n",
    "#scatter plot of (Yi,Xi)\n",
    "t.resizemode('user')\n",
    "t.turtlesize(0.5,0.5,1)\n",
    "t.shape('circle')\n",
    "\n",
    "for i in range(len(X)):\n",
    "    t.penup(); t.setposition(X[i],Y[i]); t.stamp() \n",
    "\n",
    "#line \n",
    "t.color('red')\n",
    "xmin = min(X)\n",
    "xmax = max(X)\n",
    "ymin = min(Yhat)\n",
    "ymax = max(Yhat)\n",
    "\n",
    "x = (xmin, ymin)\n",
    "y = (xmax, ymax)\n",
    "\n",
    "t.penup()\n",
    "t.goto(x)\n",
    "t.pendown()\n",
    "t.goto(y)\n",
    "\n",
    "t.hideturtle()\n",
    "t.done()"
   ]
  },
  {
   "cell_type": "code",
   "execution_count": null,
   "id": "8fa4a353",
   "metadata": {},
   "outputs": [],
   "source": []
  }
 ],
 "metadata": {
  "kernelspec": {
   "display_name": "Python 3.10.1 64-bit",
   "language": "python",
   "name": "python3"
  },
  "language_info": {
   "codemirror_mode": {
    "name": "ipython",
    "version": 3
   },
   "file_extension": ".py",
   "mimetype": "text/x-python",
   "name": "python",
   "nbconvert_exporter": "python",
   "pygments_lexer": "ipython3",
   "version": "3.10.1"
  },
  "vscode": {
   "interpreter": {
    "hash": "998c911629ba937bcf1bf80465453e12e8c5c2c818cb936f93ef7cf495a937a9"
   }
  }
 },
 "nbformat": 4,
 "nbformat_minor": 5
}
