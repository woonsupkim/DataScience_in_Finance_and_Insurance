{
 "cells": [
  {
   "cell_type": "code",
   "execution_count": 24,
   "id": "c609eafc",
   "metadata": {},
   "outputs": [],
   "source": [
    "import random\n",
    "import math"
   ]
  },
  {
   "cell_type": "code",
   "execution_count": 1,
   "id": "540ce488",
   "metadata": {},
   "outputs": [],
   "source": [
    "import numpy"
   ]
  },
  {
   "cell_type": "code",
   "execution_count": 25,
   "id": "72414b50",
   "metadata": {},
   "outputs": [],
   "source": [
    "X = list()\n",
    "E = list()\n",
    "Y = list()\n",
    "X_temp2 = list()"
   ]
  },
  {
   "cell_type": "code",
   "execution_count": 26,
   "id": "dd800e92",
   "metadata": {},
   "outputs": [],
   "source": [
    "range(1,50)\n",
    "\n",
    "for i in range(50):\n",
    "    X.append(random.uniform(-200,200))\n",
    "    E.append(random.gauss(0,400))"
   ]
  },
  {
   "cell_type": "code",
   "execution_count": 27,
   "id": "e8902ca2",
   "metadata": {},
   "outputs": [],
   "source": [
    "X_temp = list(map(lambda x: x * 0.5, X))"
   ]
  },
  {
   "cell_type": "code",
   "execution_count": 28,
   "id": "83825957",
   "metadata": {},
   "outputs": [],
   "source": [
    "X_temp = list(map(lambda x:x+10,X_temp))"
   ]
  },
  {
   "cell_type": "code",
   "execution_count": 29,
   "id": "3750a585",
   "metadata": {},
   "outputs": [],
   "source": [
    "for i in range(len(X_temp2)):\n",
    "    Y.append(X_temp2[i] + E[i])"
   ]
  },
  {
   "cell_type": "code",
   "execution_count": null,
   "id": "09a5f951",
   "metadata": {},
   "outputs": [],
   "source": []
  },
  {
   "cell_type": "code",
   "execution_count": null,
   "id": "eb276d53",
   "metadata": {},
   "outputs": [],
   "source": []
  },
  {
   "cell_type": "code",
   "execution_count": 30,
   "id": "94a01c00",
   "metadata": {},
   "outputs": [],
   "source": [
    "import statistics"
   ]
  },
  {
   "cell_type": "code",
   "execution_count": 31,
   "id": "f7fe93f7",
   "metadata": {},
   "outputs": [],
   "source": [
    "n = 50\n",
    "Xavg = statistics.mean(X)\n",
    "Xdelta = list()\n",
    "Xdelta_sq = list()"
   ]
  },
  {
   "cell_type": "code",
   "execution_count": 32,
   "id": "eae0c990",
   "metadata": {},
   "outputs": [],
   "source": [
    "for i in range(len(X)):\n",
    "    Xdelta.append(X[i]-Xavg)"
   ]
  },
  {
   "cell_type": "code",
   "execution_count": 33,
   "id": "b1d59096",
   "metadata": {},
   "outputs": [],
   "source": [
    "for i in range(len(Xdelta)):\n",
    "    Xdelta_sq.append(Xdelta[i]**2)"
   ]
  },
  {
   "cell_type": "code",
   "execution_count": 34,
   "id": "41750338",
   "metadata": {},
   "outputs": [],
   "source": [
    "Xsum = sum(Xdelta_sq)"
   ]
  },
  {
   "cell_type": "code",
   "execution_count": 35,
   "id": "ceb3aa3c",
   "metadata": {},
   "outputs": [],
   "source": [
    "S = 1/(n-1) * Xsum"
   ]
  },
  {
   "cell_type": "code",
   "execution_count": null,
   "id": "2250cda4",
   "metadata": {},
   "outputs": [],
   "source": []
  },
  {
   "cell_type": "code",
   "execution_count": 36,
   "id": "e7e23d21",
   "metadata": {},
   "outputs": [],
   "source": [
    "w = list()"
   ]
  },
  {
   "cell_type": "code",
   "execution_count": 37,
   "id": "ae151c4e",
   "metadata": {},
   "outputs": [],
   "source": [
    "const = 1/((n-1)*S)"
   ]
  },
  {
   "cell_type": "code",
   "execution_count": 38,
   "id": "84de0c9c",
   "metadata": {},
   "outputs": [],
   "source": [
    "w = list(map(lambda x: x * const, Xdelta))"
   ]
  },
  {
   "cell_type": "code",
   "execution_count": null,
   "id": "7faa76cc",
   "metadata": {},
   "outputs": [],
   "source": []
  },
  {
   "cell_type": "code",
   "execution_count": 39,
   "id": "cd387639",
   "metadata": {},
   "outputs": [],
   "source": [
    "prod = list()"
   ]
  },
  {
   "cell_type": "code",
   "execution_count": 40,
   "id": "8f0e62ad",
   "metadata": {},
   "outputs": [
    {
     "ename": "IndexError",
     "evalue": "list index out of range",
     "output_type": "error",
     "traceback": [
      "\u001b[1;31m---------------------------------------------------------------------------\u001b[0m",
      "\u001b[1;31mIndexError\u001b[0m                                Traceback (most recent call last)",
      "Input \u001b[1;32mIn [40]\u001b[0m, in \u001b[0;36m<module>\u001b[1;34m\u001b[0m\n\u001b[0;32m      1\u001b[0m \u001b[38;5;28;01mfor\u001b[39;00m i \u001b[38;5;129;01min\u001b[39;00m \u001b[38;5;28mrange\u001b[39m(\u001b[38;5;28mlen\u001b[39m(w)):\n\u001b[1;32m----> 2\u001b[0m     prod\u001b[38;5;241m.\u001b[39mappend(w[i] \u001b[38;5;241m*\u001b[39m \u001b[43mY\u001b[49m\u001b[43m[\u001b[49m\u001b[43mi\u001b[49m\u001b[43m]\u001b[49m)\n",
      "\u001b[1;31mIndexError\u001b[0m: list index out of range"
     ]
    }
   ],
   "source": [
    "for i in range(len(w)):\n",
    "    prod.append(w[i] * Y[i])"
   ]
  },
  {
   "cell_type": "code",
   "execution_count": null,
   "id": "73c34bb3",
   "metadata": {},
   "outputs": [],
   "source": [
    "B1 = sum(prod)"
   ]
  },
  {
   "cell_type": "code",
   "execution_count": null,
   "id": "3cfe4b88",
   "metadata": {},
   "outputs": [],
   "source": []
  },
  {
   "cell_type": "code",
   "execution_count": null,
   "id": "705c2554",
   "metadata": {},
   "outputs": [],
   "source": [
    "Yavg = statistics.mean(Y)"
   ]
  },
  {
   "cell_type": "code",
   "execution_count": null,
   "id": "0f352653",
   "metadata": {},
   "outputs": [],
   "source": [
    "B0 = Yavg - B1*Xavg"
   ]
  },
  {
   "cell_type": "code",
   "execution_count": null,
   "id": "67372a53",
   "metadata": {},
   "outputs": [],
   "source": []
  },
  {
   "cell_type": "code",
   "execution_count": null,
   "id": "baec7af0",
   "metadata": {},
   "outputs": [],
   "source": [
    "#Yhat = B0 + B1*xi\n",
    "Yhat = list()"
   ]
  },
  {
   "cell_type": "code",
   "execution_count": null,
   "id": "7082cfb0",
   "metadata": {},
   "outputs": [],
   "source": [
    "B1X = list(map(lambda x: x * B1, X))"
   ]
  },
  {
   "cell_type": "code",
   "execution_count": null,
   "id": "2bd14534",
   "metadata": {},
   "outputs": [],
   "source": [
    "for i in range(len(X)):\n",
    "    Yhat.append(B0 + B1X[i])"
   ]
  },
  {
   "cell_type": "code",
   "execution_count": null,
   "id": "3c0e0d2c",
   "metadata": {},
   "outputs": [],
   "source": []
  },
  {
   "cell_type": "code",
   "execution_count": null,
   "id": "8359f54e",
   "metadata": {},
   "outputs": [],
   "source": [
    "Yhat_delta = list()\n",
    "Yhat_delta_sq = list()"
   ]
  },
  {
   "cell_type": "code",
   "execution_count": null,
   "id": "133c7b26",
   "metadata": {},
   "outputs": [],
   "source": [
    "for i in range(len(Yhat)):\n",
    "    Yhat_delta.append(Yhat[i]-Yavg)"
   ]
  },
  {
   "cell_type": "code",
   "execution_count": null,
   "id": "7e6918a8",
   "metadata": {},
   "outputs": [],
   "source": [
    "for i in range(len(Yhat_delta)):\n",
    "    Yhat_delta_sq.append(Yhat_delta[i]**2)"
   ]
  },
  {
   "cell_type": "code",
   "execution_count": null,
   "id": "8a8d88a6",
   "metadata": {},
   "outputs": [],
   "source": [
    "RSS = sum(Yhat_delta_sq)"
   ]
  },
  {
   "cell_type": "code",
   "execution_count": null,
   "id": "22f4607a",
   "metadata": {},
   "outputs": [],
   "source": []
  },
  {
   "cell_type": "code",
   "execution_count": null,
   "id": "9dc6b40d",
   "metadata": {},
   "outputs": [],
   "source": [
    "Ydelta = list()\n",
    "Ydelta_sq = list()"
   ]
  },
  {
   "cell_type": "code",
   "execution_count": null,
   "id": "0dfb642c",
   "metadata": {},
   "outputs": [],
   "source": [
    "for i in range(len(Y)):\n",
    "    Ydelta.append(Y[i]-Yavg)"
   ]
  },
  {
   "cell_type": "code",
   "execution_count": null,
   "id": "6d9017fa",
   "metadata": {},
   "outputs": [],
   "source": [
    "for i in range(len(Ydelta)):\n",
    "    Ydelta_sq.append(Ydelta[i]**2)"
   ]
  },
  {
   "cell_type": "code",
   "execution_count": null,
   "id": "3f4783b9",
   "metadata": {},
   "outputs": [],
   "source": [
    "TSS = sum(Ydelta_sq)"
   ]
  },
  {
   "cell_type": "code",
   "execution_count": null,
   "id": "5389279d",
   "metadata": {},
   "outputs": [],
   "source": []
  },
  {
   "cell_type": "code",
   "execution_count": null,
   "id": "01e136cc",
   "metadata": {},
   "outputs": [],
   "source": [
    "R2 = RSS/TSS"
   ]
  },
  {
   "cell_type": "code",
   "execution_count": null,
   "id": "99783aa5",
   "metadata": {},
   "outputs": [],
   "source": []
  },
  {
   "cell_type": "code",
   "execution_count": null,
   "id": "5470efec",
   "metadata": {},
   "outputs": [],
   "source": []
  },
  {
   "cell_type": "code",
   "execution_count": null,
   "id": "2395cc43",
   "metadata": {},
   "outputs": [],
   "source": [
    "import turtle as t"
   ]
  },
  {
   "cell_type": "code",
   "execution_count": null,
   "id": "60bcbda7",
   "metadata": {},
   "outputs": [],
   "source": [
    "t.Screen()"
   ]
  },
  {
   "cell_type": "code",
   "execution_count": null,
   "id": "aaad0453",
   "metadata": {},
   "outputs": [],
   "source": [
    "t.color('black')\n",
    "t.penup(); t.goto(-300,0); t.pendown(), t.forward(600), t.stamp()\n",
    "t.penup(); t.seth(90); t.goto(0,-300); t.pendown(), t.forward(800), t.stamp()"
   ]
  },
  {
   "cell_type": "code",
   "execution_count": null,
   "id": "8eb6a66c",
   "metadata": {},
   "outputs": [],
   "source": []
  }
 ],
 "metadata": {
  "kernelspec": {
   "display_name": "env_ds_3_10",
   "language": "python",
   "name": "env_ds_3_10"
  },
  "language_info": {
   "codemirror_mode": {
    "name": "ipython",
    "version": 3
   },
   "file_extension": ".py",
   "mimetype": "text/x-python",
   "name": "python",
   "nbconvert_exporter": "python",
   "pygments_lexer": "ipython3",
   "version": "3.10.1"
  }
 },
 "nbformat": 4,
 "nbformat_minor": 5
}
