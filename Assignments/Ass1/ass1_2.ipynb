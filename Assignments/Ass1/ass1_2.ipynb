{
 "cells": [
  {
   "cell_type": "code",
   "execution_count": 1,
   "id": "30fc94ff",
   "metadata": {},
   "outputs": [
    {
     "name": "stdout",
     "output_type": "stream",
     "text": [
      "Y:  [53.115292033842564, -50.77595233484978, -61.98050918602502, 12.897611184898548, 28.03124921048013, 51.7887801052094, 112.80464057728965, 87.89774359125393, -2.871120630183132, 16.296737551372644, 74.28783262292494, 20.40062858803936, 29.754872258114595, -59.025291656270944, -16.22109579845488, -56.040625565910304, -14.822050780781838, 90.77518079123303, 88.00127347350289, -36.25777459021755, 59.137136016832486, -86.57488949417555, -79.77517313473412, -32.70912414881973, 85.03256390718776, 68.15094433545238, 71.75760481194374, -17.585082767458204, -34.71849834761871, -51.505530008871766, 101.39521307709953, 58.8288585978473, 24.49682890397462, 99.58720426182617, -48.755345592363874, 82.48491168395938, 22.678001367944404, 15.034297029727089, 23.12562293367909, -39.20259547593931, 13.60163280631421, -30.64753973234742, 67.64604514828021, 121.90141246599657, -78.21302039032503, 43.02759594992672, -107.33504329497269, -10.027558465800324, -80.5179462323799, -20.289782293006006]\n"
     ]
    }
   ],
   "source": [
    "# Question 1\n",
    "import random\n",
    "\n",
    "X = list()\n",
    "E = list()\n",
    "Y = list()\n",
    "\n",
    "for i in range(50):\n",
    "    X.append(random.uniform(-200,200))\n",
    "    E.append(random.gauss(0,20))\n",
    "\n",
    "X_temp = list(map(lambda x: x * 0.5, X))\n",
    "\n",
    "X_temp2 = list(map(lambda x: x + 10, X_temp))\n",
    "\n",
    "for i in range(len(X_temp2)):\n",
    "    Y.append(X_temp2[i] + E[i])\n",
    "\n",
    "print('Y: ', Y)"
   ]
  },
  {
   "cell_type": "code",
   "execution_count": 2,
   "id": "89995cba",
   "metadata": {},
   "outputs": [
    {
     "name": "stdout",
     "output_type": "stream",
     "text": [
      "Yhat:  [41.95727093394293, -16.408943606416724, -48.13277005719076, 23.729781834023807, 17.13199941844839, 62.32851983226692, 104.01000747875906, 66.70289502824441, 6.54242414333647, -6.182021486969845, 71.12130306269327, 32.85222013193152, -4.941143873900785, -56.47717650110536, -32.88522891165399, -32.49638953327179, -3.639341430616872, 95.01616222567411, 105.50516411230326, -47.82561335245925, 76.65716619082271, -87.37861542128537, -49.5323795643022, -43.220763044011534, 83.20200411629068, 100.77345695862685, 41.62667045812702, -4.391385688997822, -37.377692931374355, -68.61704098779937, 95.3365238300776, 19.818743925706265, 19.388688594090517, 86.97968614789545, -49.61447015913445, 86.46692752108117, 36.723959460387164, 43.76175881019391, 39.92846010860189, -50.809852280681326, 31.36908705933669, -20.932382026953455, 74.04697773158897, 81.79777805310277, -84.36532158423408, 14.945785811584496, -88.92603452111582, -11.43921141008325, -76.80591759505913, -29.23556164587349]\n"
     ]
    }
   ],
   "source": [
    "#Question 2\n",
    "import statistics\n",
    "n = 50\n",
    "Xavg = statistics.mean(X)\n",
    "Xdelta = list()\n",
    "Xdelta_sq = list()\n",
    "\n",
    "for i in range(len(X)):\n",
    "    Xdelta.append(X[i]-Xavg)\n",
    "\n",
    "for i in range(len(Xdelta)):\n",
    "    Xdelta_sq.append(Xdelta[i]**2)\n",
    "\n",
    "Xsum = sum(Xdelta_sq)\n",
    "S = 1/(n-1) * Xsum\n",
    "\n",
    "\n",
    "\n",
    "w = list()\n",
    "const = 1/((n-1)*S)\n",
    "w = list(map(lambda x: x * const, Xdelta))\n",
    "\n",
    "\n",
    "prod = list()\n",
    "for i in range(len(w)):\n",
    "    prod.append(w[i] * Y[i])\n",
    "B1 = sum(prod)\n",
    "\n",
    "\n",
    "Yavg = statistics.mean(Y)\n",
    "B0 = Yavg - B1*Xavg\n",
    "\n",
    "\n",
    "#Yhat = B0 + B1*xi\n",
    "Yhat = list()\n",
    "B1X = list(map(lambda x: x * B1, X))\n",
    "for i in range(len(X)):\n",
    "    Yhat.append(B0 + B1X[i])\n",
    "\n",
    "print('Yhat: ', Yhat)"
   ]
  },
  {
   "cell_type": "code",
   "execution_count": 3,
   "id": "a8dc7ce3",
   "metadata": {},
   "outputs": [
    {
     "name": "stdout",
     "output_type": "stream",
     "text": [
      "R2:  0.9109601517363457\n"
     ]
    }
   ],
   "source": [
    "#Question 3\n",
    "Yhat_delta = list()\n",
    "Yhat_delta_sq = list()\n",
    "\n",
    "for i in range(len(Yhat)):\n",
    "    Yhat_delta.append(Yhat[i]-Yavg)\n",
    "\n",
    "for i in range(len(Yhat_delta)):\n",
    "    Yhat_delta_sq.append(Yhat_delta[i]**2)\n",
    "\n",
    "RSS = sum(Yhat_delta_sq)\n",
    "\n",
    "\n",
    "Ydelta = list()\n",
    "Ydelta_sq = list()\n",
    "\n",
    "for i in range(len(Y)):\n",
    "    Ydelta.append(Y[i]-Yavg)\n",
    "\n",
    "for i in range(len(Ydelta)):\n",
    "    Ydelta_sq.append(Ydelta[i]**2)\n",
    "\n",
    "TSS = sum(Ydelta_sq)\n",
    "\n",
    "\n",
    "R2 = RSS/TSS\n",
    "\n",
    "print('R2: ', R2)"
   ]
  },
  {
   "cell_type": "code",
   "execution_count": 4,
   "id": "f645bb7e",
   "metadata": {},
   "outputs": [],
   "source": [
    "import turtle as t\n",
    "t.Screen()\n",
    "t.screensize(600,300)\n",
    "\n",
    "#draw axis\n",
    "t.color('black')\n",
    "t.penup(); t.goto(-600,0); t.pendown(), t.forward(1200), t.stamp()\n",
    "t.penup(); t.seth(90); t.goto(0,-600); t.pendown(), t.forward(1200), t.stamp()\n",
    "\n",
    "#scatter plot of (Yi,Xi)\n",
    "t.resizemode('user')\n",
    "t.turtlesize(0.5,0.5,1)\n",
    "t.shape('circle')\n",
    "\n",
    "for i in range(len(X)):\n",
    "    t.penup(); t.setposition(X[i],Y[i]); t.stamp() \n",
    "\n",
    "#line \n",
    "t.color('red')\n",
    "xmin = min(X)\n",
    "xmax = max(X)\n",
    "ymin = min(Yhat)\n",
    "ymax = max(Yhat)\n",
    "\n",
    "x = (xmin, ymin)\n",
    "y = (xmax, ymax)\n",
    "\n",
    "t.penup()\n",
    "t.goto(x)\n",
    "t.pendown()\n",
    "t.goto(y)\n",
    "\n",
    "t.hideturtle()\n",
    "t.done()"
   ]
  },
  {
   "cell_type": "code",
   "execution_count": null,
   "id": "8fa4a353",
   "metadata": {},
   "outputs": [],
   "source": []
  }
 ],
 "metadata": {
  "kernelspec": {
   "display_name": "Python 3 (ipykernel)",
   "language": "python",
   "name": "python3"
  },
  "language_info": {
   "codemirror_mode": {
    "name": "ipython",
    "version": 3
   },
   "file_extension": ".py",
   "mimetype": "text/x-python",
   "name": "python",
   "nbconvert_exporter": "python",
   "pygments_lexer": "ipython3",
   "version": "3.10.1"
  }
 },
 "nbformat": 4,
 "nbformat_minor": 5
}
