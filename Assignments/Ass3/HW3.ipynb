{
 "cells": [
  {
   "cell_type": "markdown",
   "id": "7c105383",
   "metadata": {},
   "source": [
    "### Assignment 3\n",
    "### Prepared By: Woon Kim\n",
    "### UNI: wk2371\n",
    "### Course: ACTU 5841\n",
    "### Date: February 13 2022"
   ]
  },
  {
   "cell_type": "code",
   "execution_count": 1,
   "id": "6260a6a8",
   "metadata": {},
   "outputs": [],
   "source": [
    "import numpy as np\n",
    "import pandas as pd\n",
    "import matplotlib.pyplot as plt"
   ]
  },
  {
   "cell_type": "code",
   "execution_count": 2,
   "id": "877c2426",
   "metadata": {},
   "outputs": [
    {
     "data": {
      "text/html": [
       "<div>\n",
       "<style scoped>\n",
       "    .dataframe tbody tr th:only-of-type {\n",
       "        vertical-align: middle;\n",
       "    }\n",
       "\n",
       "    .dataframe tbody tr th {\n",
       "        vertical-align: top;\n",
       "    }\n",
       "\n",
       "    .dataframe thead th {\n",
       "        text-align: right;\n",
       "    }\n",
       "</style>\n",
       "<table border=\"1\" class=\"dataframe\">\n",
       "  <thead>\n",
       "    <tr style=\"text-align: right;\">\n",
       "      <th></th>\n",
       "      <th>MARSTAT</th>\n",
       "      <th>EDUCATION</th>\n",
       "      <th>NUMHH</th>\n",
       "      <th>INCOME</th>\n",
       "      <th>FACE</th>\n",
       "    </tr>\n",
       "  </thead>\n",
       "  <tbody>\n",
       "    <tr>\n",
       "      <th>1</th>\n",
       "      <td>1</td>\n",
       "      <td>9</td>\n",
       "      <td>3</td>\n",
       "      <td>12000</td>\n",
       "      <td>130000</td>\n",
       "    </tr>\n",
       "    <tr>\n",
       "      <th>2</th>\n",
       "      <td>1</td>\n",
       "      <td>16</td>\n",
       "      <td>5</td>\n",
       "      <td>120000</td>\n",
       "      <td>1500000</td>\n",
       "    </tr>\n",
       "    <tr>\n",
       "      <th>3</th>\n",
       "      <td>1</td>\n",
       "      <td>17</td>\n",
       "      <td>4</td>\n",
       "      <td>40000</td>\n",
       "      <td>50000</td>\n",
       "    </tr>\n",
       "    <tr>\n",
       "      <th>5</th>\n",
       "      <td>2</td>\n",
       "      <td>11</td>\n",
       "      <td>4</td>\n",
       "      <td>28000</td>\n",
       "      <td>220000</td>\n",
       "    </tr>\n",
       "    <tr>\n",
       "      <th>7</th>\n",
       "      <td>1</td>\n",
       "      <td>16</td>\n",
       "      <td>3</td>\n",
       "      <td>100000</td>\n",
       "      <td>600000</td>\n",
       "    </tr>\n",
       "  </tbody>\n",
       "</table>\n",
       "</div>"
      ],
      "text/plain": [
       "   MARSTAT  EDUCATION  NUMHH  INCOME     FACE\n",
       "1        1          9      3   12000   130000\n",
       "2        1         16      5  120000  1500000\n",
       "3        1         17      4   40000    50000\n",
       "5        2         11      4   28000   220000\n",
       "7        1         16      3  100000   600000"
      ]
     },
     "execution_count": 2,
     "metadata": {},
     "output_type": "execute_result"
    }
   ],
   "source": [
    "#filtering observations with FACE >= 50000\n",
    "df = pd.read_csv('TermLifeData.csv')\n",
    "df = df[df['FACE']  >= 50000]\n",
    "df.head()"
   ]
  },
  {
   "cell_type": "code",
   "execution_count": 3,
   "id": "f2453b73",
   "metadata": {},
   "outputs": [],
   "source": [
    "#part [a]"
   ]
  },
  {
   "cell_type": "code",
   "execution_count": 4,
   "id": "45f81d43",
   "metadata": {},
   "outputs": [],
   "source": [
    "from sklearn.preprocessing import PowerTransformer\n",
    "pt = PowerTransformer(method = 'box-cox', standardize = False)\n",
    "\n",
    "# reshaping the column FACE to be in the appropriate dimension for box-cox transformation\n",
    "FACEbc = np.asarray(df['FACE'])\n",
    "FACEbc = FACEbc.reshape(-1,1)\n",
    "\n",
    "# converting type of FACE to float instead of int\n",
    "# so that I can convert 0 to a very small number instead (box-cox only works for strictly positive values)\n",
    "FACEbc = FACEbc.astype(float)\n",
    "FACEbc[FACEbc == 0] = 0.0000000001\n",
    "\n",
    "pt.fit(FACEbc)\n",
    "pt.lambdas_\n",
    "\n",
    "#Adding the transformed FACE values into a new column on dataframe\n",
    "FACEbc = pt.transform(FACEbc)\n",
    "df['FACEbc'] = FACEbc"
   ]
  },
  {
   "cell_type": "code",
   "execution_count": 5,
   "id": "d3ee3cf7",
   "metadata": {},
   "outputs": [
    {
     "data": {
      "image/png": "[encoded data removed]",
      "text/plain": [
       "<Figure size 432x288 with 2 Axes>"
      ]
     },
     "metadata": {
      "needs_background": "light"
     },
     "output_type": "display_data"
    }
   ],
   "source": [
    "skew1 = round(df['FACE'].skew(),3)\n",
    "skew2 = round(df['FACEbc'].skew(),3)\n",
    "lambdas = pt.lambdas_[0]\n",
    "\n",
    "f, (ax1, ax2) = plt.subplots(1, 2)\n",
    "ax1.hist(df['FACE'])\n",
    "ax1.set_title('histogram: skew = %s' % skew1)\n",
    "ax1.set_xlabel('original')\n",
    "\n",
    "ax2.hist(df['FACEbc'])\n",
    "ax2.set_title('histogram: skew = %s' % skew2)\n",
    "ax2.set_xlabel('optimal transformation: %s = %s' % (chr(0x03BB), round(lambdas,3)))\n",
    "\n",
    "plt.tight_layout()\n",
    "plt.savefig(\"histogram.png\")\n"
   ]
  },
  {
   "cell_type": "code",
   "execution_count": 6,
   "id": "2186de1a",
   "metadata": {},
   "outputs": [],
   "source": [
    "#part [b]"
   ]
  },
  {
   "cell_type": "code",
   "execution_count": 7,
   "id": "1eb95c18",
   "metadata": {},
   "outputs": [
    {
     "data": {
      "text/html": [
       "<div>\n",
       "<style scoped>\n",
       "    .dataframe tbody tr th:only-of-type {\n",
       "        vertical-align: middle;\n",
       "    }\n",
       "\n",
       "    .dataframe tbody tr th {\n",
       "        vertical-align: top;\n",
       "    }\n",
       "\n",
       "    .dataframe thead th {\n",
       "        text-align: right;\n",
       "    }\n",
       "</style>\n",
       "<table border=\"1\" class=\"dataframe\">\n",
       "  <thead>\n",
       "    <tr style=\"text-align: right;\">\n",
       "      <th></th>\n",
       "      <th>EDUCATION</th>\n",
       "      <th>NUMHH</th>\n",
       "      <th>INCOME</th>\n",
       "      <th>FACE</th>\n",
       "      <th>FACEbc</th>\n",
       "      <th>MARSTAT_0</th>\n",
       "      <th>MARSTAT_1</th>\n",
       "      <th>MARSTAT_2</th>\n",
       "    </tr>\n",
       "  </thead>\n",
       "  <tbody>\n",
       "    <tr>\n",
       "      <th>1</th>\n",
       "      <td>9</td>\n",
       "      <td>3</td>\n",
       "      <td>12000</td>\n",
       "      <td>130000</td>\n",
       "      <td>4.489410</td>\n",
       "      <td>0</td>\n",
       "      <td>1</td>\n",
       "      <td>0</td>\n",
       "    </tr>\n",
       "    <tr>\n",
       "      <th>2</th>\n",
       "      <td>16</td>\n",
       "      <td>5</td>\n",
       "      <td>120000</td>\n",
       "      <td>1500000</td>\n",
       "      <td>4.667959</td>\n",
       "      <td>0</td>\n",
       "      <td>1</td>\n",
       "      <td>0</td>\n",
       "    </tr>\n",
       "    <tr>\n",
       "      <th>3</th>\n",
       "      <td>17</td>\n",
       "      <td>4</td>\n",
       "      <td>40000</td>\n",
       "      <td>50000</td>\n",
       "      <td>4.391879</td>\n",
       "      <td>0</td>\n",
       "      <td>1</td>\n",
       "      <td>0</td>\n",
       "    </tr>\n",
       "    <tr>\n",
       "      <th>5</th>\n",
       "      <td>11</td>\n",
       "      <td>4</td>\n",
       "      <td>28000</td>\n",
       "      <td>220000</td>\n",
       "      <td>4.535591</td>\n",
       "      <td>0</td>\n",
       "      <td>0</td>\n",
       "      <td>1</td>\n",
       "    </tr>\n",
       "    <tr>\n",
       "      <th>7</th>\n",
       "      <td>16</td>\n",
       "      <td>3</td>\n",
       "      <td>100000</td>\n",
       "      <td>600000</td>\n",
       "      <td>4.611143</td>\n",
       "      <td>0</td>\n",
       "      <td>1</td>\n",
       "      <td>0</td>\n",
       "    </tr>\n",
       "  </tbody>\n",
       "</table>\n",
       "</div>"
      ],
      "text/plain": [
       "   EDUCATION  NUMHH  INCOME     FACE    FACEbc  MARSTAT_0  MARSTAT_1  \\\n",
       "1          9      3   12000   130000  4.489410          0          1   \n",
       "2         16      5  120000  1500000  4.667959          0          1   \n",
       "3         17      4   40000    50000  4.391879          0          1   \n",
       "5         11      4   28000   220000  4.535591          0          0   \n",
       "7         16      3  100000   600000  4.611143          0          1   \n",
       "\n",
       "   MARSTAT_2  \n",
       "1          0  \n",
       "2          0  \n",
       "3          0  \n",
       "5          1  \n",
       "7          0  "
      ]
     },
     "execution_count": 7,
     "metadata": {},
     "output_type": "execute_result"
    }
   ],
   "source": [
    "#creating dummy variables for the categorical variable MARSTAT \n",
    "df_dc = pd.get_dummies(df, columns=['MARSTAT'])\n",
    "df_dc.head()"
   ]
  },
  {
   "cell_type": "code",
   "execution_count": 8,
   "id": "f1f079ec",
   "metadata": {},
   "outputs": [],
   "source": [
    "#Adding ln(INCOME) as a new column on the dataframe \n",
    "df_dc['logINCOME'] = np.log(df_dc['INCOME'])"
   ]
  },
  {
   "cell_type": "code",
   "execution_count": 9,
   "id": "923defe2",
   "metadata": {},
   "outputs": [
    {
     "name": "stdout",
     "output_type": "stream",
     "text": [
      "[ 4.054996    0.01335962  0.00759392  0.02511296 -0.04642982 -0.01841342]\n"
     ]
    }
   ],
   "source": [
    "#Computing linear regression\n",
    "#Formula FACEbc = B0 + B1*EDUCATION + B2*NUMHH + B3*logINCOME + B4*MARSTAT_0 + B5*MARSTAT_2 + E\n",
    "from sklearn.linear_model import LinearRegression\n",
    "X = df_dc[['EDUCATION', 'NUMHH', 'logINCOME', 'MARSTAT_0', 'MARSTAT_2']]\n",
    "y = df_dc['FACEbc']\n",
    "reg = LinearRegression().fit(X, y)\n",
    "B = reg.coef_\n",
    "B = np.insert(B, 0, reg.intercept_, axis=0)\n",
    "print(B)"
   ]
  },
  {
   "cell_type": "code",
   "execution_count": 10,
   "id": "b171c0ac",
   "metadata": {},
   "outputs": [
    {
     "name": "stdout",
     "output_type": "stream",
     "text": [
      "0.10323297449402534\n"
     ]
    }
   ],
   "source": [
    "#Computing standard error with n-1 degrees of freedom\n",
    "SE = np.std(y, ddof=1)\n",
    "print(SE)"
   ]
  },
  {
   "cell_type": "code",
   "execution_count": 11,
   "id": "3f3e093a",
   "metadata": {},
   "outputs": [
    {
     "name": "stdout",
     "output_type": "stream",
     "text": [
      "0.33359974845365026\n"
     ]
    }
   ],
   "source": [
    "#Computing R2\n",
    "y_pred = reg.predict(X)\n",
    "from sklearn.metrics import r2_score\n",
    "R2 = r2_score(y, y_pred)\n",
    "print(R2)"
   ]
  },
  {
   "cell_type": "code",
   "execution_count": 12,
   "id": "4fc34247",
   "metadata": {},
   "outputs": [],
   "source": [
    "#part [c]"
   ]
  },
  {
   "cell_type": "code",
   "execution_count": 13,
   "id": "e9d6c2b7",
   "metadata": {},
   "outputs": [
    {
     "data": {
      "text/html": [
       "<div>\n",
       "<style scoped>\n",
       "    .dataframe tbody tr th:only-of-type {\n",
       "        vertical-align: middle;\n",
       "    }\n",
       "\n",
       "    .dataframe tbody tr th {\n",
       "        vertical-align: top;\n",
       "    }\n",
       "\n",
       "    .dataframe thead th {\n",
       "        text-align: right;\n",
       "    }\n",
       "</style>\n",
       "<table border=\"1\" class=\"dataframe\">\n",
       "  <thead>\n",
       "    <tr style=\"text-align: right;\">\n",
       "      <th></th>\n",
       "      <th>EDUCATION</th>\n",
       "      <th>NUMHH</th>\n",
       "      <th>INCOME</th>\n",
       "      <th>FACE</th>\n",
       "      <th>FACEbc</th>\n",
       "      <th>MARSTAT_0</th>\n",
       "      <th>MARSTAT_1</th>\n",
       "      <th>MARSTAT_2</th>\n",
       "      <th>logINCOME</th>\n",
       "    </tr>\n",
       "  </thead>\n",
       "  <tbody>\n",
       "    <tr>\n",
       "      <th>1</th>\n",
       "      <td>9</td>\n",
       "      <td>3</td>\n",
       "      <td>12000</td>\n",
       "      <td>130000</td>\n",
       "      <td>4.489410</td>\n",
       "      <td>0</td>\n",
       "      <td>1</td>\n",
       "      <td>0</td>\n",
       "      <td>9.392662</td>\n",
       "    </tr>\n",
       "    <tr>\n",
       "      <th>2</th>\n",
       "      <td>16</td>\n",
       "      <td>5</td>\n",
       "      <td>120000</td>\n",
       "      <td>1500000</td>\n",
       "      <td>4.667959</td>\n",
       "      <td>0</td>\n",
       "      <td>1</td>\n",
       "      <td>0</td>\n",
       "      <td>11.695247</td>\n",
       "    </tr>\n",
       "    <tr>\n",
       "      <th>3</th>\n",
       "      <td>17</td>\n",
       "      <td>4</td>\n",
       "      <td>40000</td>\n",
       "      <td>50000</td>\n",
       "      <td>4.391879</td>\n",
       "      <td>0</td>\n",
       "      <td>1</td>\n",
       "      <td>0</td>\n",
       "      <td>10.596635</td>\n",
       "    </tr>\n",
       "    <tr>\n",
       "      <th>5</th>\n",
       "      <td>11</td>\n",
       "      <td>4</td>\n",
       "      <td>28000</td>\n",
       "      <td>220000</td>\n",
       "      <td>4.535591</td>\n",
       "      <td>0</td>\n",
       "      <td>0</td>\n",
       "      <td>1</td>\n",
       "      <td>10.239960</td>\n",
       "    </tr>\n",
       "    <tr>\n",
       "      <th>7</th>\n",
       "      <td>16</td>\n",
       "      <td>3</td>\n",
       "      <td>100000</td>\n",
       "      <td>600000</td>\n",
       "      <td>4.611143</td>\n",
       "      <td>0</td>\n",
       "      <td>1</td>\n",
       "      <td>0</td>\n",
       "      <td>11.512925</td>\n",
       "    </tr>\n",
       "  </tbody>\n",
       "</table>\n",
       "</div>"
      ],
      "text/plain": [
       "   EDUCATION  NUMHH  INCOME     FACE    FACEbc  MARSTAT_0  MARSTAT_1  \\\n",
       "1          9      3   12000   130000  4.489410          0          1   \n",
       "2         16      5  120000  1500000  4.667959          0          1   \n",
       "3         17      4   40000    50000  4.391879          0          1   \n",
       "5         11      4   28000   220000  4.535591          0          0   \n",
       "7         16      3  100000   600000  4.611143          0          1   \n",
       "\n",
       "   MARSTAT_2  logINCOME  \n",
       "1          0   9.392662  \n",
       "2          0  11.695247  \n",
       "3          0  10.596635  \n",
       "5          1  10.239960  \n",
       "7          0  11.512925  "
      ]
     },
     "execution_count": 13,
     "metadata": {},
     "output_type": "execute_result"
    }
   ],
   "source": [
    "df_dc.head()"
   ]
  },
  {
   "cell_type": "code",
   "execution_count": 14,
   "id": "a3393227",
   "metadata": {},
   "outputs": [
    {
     "data": {
      "text/plain": [
       "\"\\nfrom statsmodels.formula.api import ols\\ndta = df_dc\\nformula = 'FACEbc ~ EDUCATION + NUMHH + logINCOME + MARSTAT_0 + MARSTAT_2'\\nresults = ols(formula, dta).fit()\\nhypotheses = 'MARSTAT_0 = 0, MARSTAT_2 = 0'\\nt_test = results.t_test(hypotheses)\\nprint(t_test)\\n\""
      ]
     },
     "execution_count": 14,
     "metadata": {},
     "output_type": "execute_result"
    }
   ],
   "source": [
    "\"\"\"\n",
    "from statsmodels.formula.api import ols\n",
    "dta = df_dc\n",
    "formula = 'FACEbc ~ EDUCATION + NUMHH + logINCOME + MARSTAT_0 + MARSTAT_2'\n",
    "results = ols(formula, dta).fit()\n",
    "hypotheses = 'MARSTAT_0 = 0, MARSTAT_2 = 0'\n",
    "t_test = results.t_test(hypotheses)\n",
    "print(t_test)\n",
    "\"\"\""
   ]
  },
  {
   "cell_type": "code",
   "execution_count": 15,
   "id": "2dc82cc5",
   "metadata": {},
   "outputs": [
    {
     "name": "stderr",
     "output_type": "stream",
     "text": [
      "c:\\Users\\Woon\\Documents\\env_ds_3_10\\lib\\site-packages\\statsmodels\\compat\\pandas.py:65: FutureWarning: pandas.Int64Index is deprecated and will be removed from pandas in a future version. Use pandas.Index with the appropriate dtype instead.\n",
      "  from pandas import Int64Index as NumericIndex\n"
     ]
    },
    {
     "name": "stdout",
     "output_type": "stream",
     "text": [
      "                            OLS Regression Results                            \n",
      "==============================================================================\n",
      "Dep. Variable:                 FACEbc   R-squared:                       0.334\n",
      "Model:                            OLS   Adj. R-squared:                  0.318\n",
      "Method:                 Least Squares   F-statistic:                     20.72\n",
      "Date:                Thu, 21 Jul 2022   Prob (F-statistic):           9.13e-17\n",
      "Time:                        18:47:52   Log-Likelihood:                 225.17\n",
      "No. Observations:                 213   AIC:                            -438.3\n",
      "Df Residuals:                     207   BIC:                            -418.2\n",
      "Df Model:                           5                                         \n",
      "Covariance Type:            nonrobust                                         \n",
      "==============================================================================\n",
      "                 coef    std err          t      P>|t|      [0.025      0.975]\n",
      "------------------------------------------------------------------------------\n",
      "const          4.0550      0.060     67.405      0.000       3.936       4.174\n",
      "EDUCATION      0.0134      0.003      4.788      0.000       0.008       0.019\n",
      "NUMHH          0.0076      0.004      1.766      0.079      -0.001       0.016\n",
      "logINCOME      0.0251      0.005      5.089      0.000       0.015       0.035\n",
      "MARSTAT_0     -0.0464      0.018     -2.612      0.010      -0.081      -0.011\n",
      "MARSTAT_2     -0.0184      0.036     -0.513      0.609      -0.089       0.052\n",
      "==============================================================================\n",
      "Omnibus:                        1.561   Durbin-Watson:                   1.810\n",
      "Prob(Omnibus):                  0.458   Jarque-Bera (JB):                1.294\n",
      "Skew:                           0.009   Prob(JB):                        0.524\n",
      "Kurtosis:                       3.381   Cond. No.                         199.\n",
      "==============================================================================\n",
      "\n",
      "Notes:\n",
      "[1] Standard Errors assume that the covariance matrix of the errors is correctly specified.\n"
     ]
    }
   ],
   "source": [
    "#Conducting linear regression using OLS method\n",
    "import statsmodels.api as sm\n",
    "\n",
    "X = df_dc[['EDUCATION', 'NUMHH', 'logINCOME', 'MARSTAT_0', 'MARSTAT_2']]\n",
    "y = df_dc['FACEbc']\n",
    "\n",
    "X2 = sm.add_constant(X)\n",
    "\n",
    "lm = sm.OLS(y, X2).fit()\n",
    "print(lm.summary())"
   ]
  },
  {
   "cell_type": "code",
   "execution_count": 16,
   "id": "c634c93a",
   "metadata": {},
   "outputs": [],
   "source": [
    "#part [d]"
   ]
  },
  {
   "cell_type": "code",
   "execution_count": 17,
   "id": "839eae21",
   "metadata": {},
   "outputs": [
    {
     "name": "stdout",
     "output_type": "stream",
     "text": [
      "95% likelihood that the true value is between $461451.11 and $461453.33\n",
      "True value: $461452.22\n"
     ]
    },
    {
     "name": "stderr",
     "output_type": "stream",
     "text": [
      "c:\\Users\\Woon\\Documents\\env_ds_3_10\\lib\\site-packages\\sklearn\\base.py:450: UserWarning: X does not have valid feature names, but LinearRegression was fitted with feature names\n",
      "  warnings.warn(\n",
      "c:\\Users\\Woon\\Documents\\env_ds_3_10\\lib\\site-packages\\sklearn\\base.py:566: FutureWarning: Arrays of bytes/strings is being converted to decimal numbers if dtype='numeric'. This behavior is deprecated in 0.24 and will be removed in 1.1 (renaming of 0.26). Please convert your data to numeric values explicitly instead.\n",
      "  X = check_array(X, **check_params)\n"
     ]
    }
   ],
   "source": [
    "#Conducting prediction with the married man profile as described from the question\n",
    "X3 = np.array([['16', '4', np.log(120000), '0', '0']])\n",
    "Y3 = reg.predict(X3)\n",
    "\n",
    "#Inversing the box-cox transformation for the prediction\n",
    "Y3 = Y3.reshape(-1,1)\n",
    "Y3 = pt.inverse_transform(Y3)\n",
    "\n",
    "#Inversing the box-cox transformation of the standard error\n",
    "SE = SE.reshape(-1,1)\n",
    "SE = pt.inverse_transform(SE)\n",
    "\n",
    "#Computing upper and lower interval\n",
    "Y3_upper, Y3_lower = Y3+SE, Y3-SE\n",
    "\n",
    "print('95%% likelihood that the true value is between $%.2f and $%.2f' % (Y3_lower, Y3_upper))\n",
    "print('True value: $%.2f' % Y3)"
   ]
  }
 ],
 "metadata": {
  "kernelspec": {
   "display_name": "env_ds_3_10",
   "language": "python",
   "name": "env_ds_3_10"
  },
  "language_info": {
   "codemirror_mode": {
    "name": "ipython",
    "version": 3
   },
   "file_extension": ".py",
   "mimetype": "text/x-python",
   "name": "python",
   "nbconvert_exporter": "python",
   "pygments_lexer": "ipython3",
   "version": "3.10.1"
  }
 },
 "nbformat": 4,
 "nbformat_minor": 5
}
