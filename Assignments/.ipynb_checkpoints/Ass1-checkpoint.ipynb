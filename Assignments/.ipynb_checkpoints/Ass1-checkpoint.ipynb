{
 "cells": [
  {
   "cell_type": "code",
   "execution_count": 248,
   "id": "c609eafc",
   "metadata": {},
   "outputs": [],
   "source": [
    "import random\n",
    "import math"
   ]
  },
  {
   "cell_type": "code",
   "execution_count": 226,
   "id": "72414b50",
   "metadata": {},
   "outputs": [],
   "source": [
    "X = list()\n",
    "E = list()"
   ]
  },
  {
   "cell_type": "code",
   "execution_count": 227,
   "id": "dd800e92",
   "metadata": {},
   "outputs": [],
   "source": [
    "range(1,50)\n",
    "\n",
    "for i in range(50):\n",
    "    X.append(random.uniform(-200,200))\n",
    "    E.append(random.gauss(0,400))"
   ]
  },
  {
   "cell_type": "code",
   "execution_count": 228,
   "id": "ba8a5af7",
   "metadata": {},
   "outputs": [
    {
     "data": {
      "text/plain": [
       "-75.18402643716904"
      ]
     },
     "execution_count": 228,
     "metadata": {},
     "output_type": "execute_result"
    }
   ],
   "source": [
    "X[0]"
   ]
  },
  {
   "cell_type": "code",
   "execution_count": 229,
   "id": "e8902ca2",
   "metadata": {},
   "outputs": [
    {
     "data": {
      "text/plain": [
       "-37.59201321858452"
      ]
     },
     "execution_count": 229,
     "metadata": {},
     "output_type": "execute_result"
    }
   ],
   "source": [
    "X_temp = list(map(lambda x: x * 0.5, X))\n",
    "X_temp[0]"
   ]
  },
  {
   "cell_type": "code",
   "execution_count": 230,
   "id": "83825957",
   "metadata": {},
   "outputs": [
    {
     "data": {
      "text/plain": [
       "-27.59201321858452"
      ]
     },
     "execution_count": 230,
     "metadata": {},
     "output_type": "execute_result"
    }
   ],
   "source": [
    "X_temp = list(map(lambda x:x+10,X_temp))\n",
    "X_temp[0]"
   ]
  },
  {
   "cell_type": "code",
   "execution_count": 231,
   "id": "45425311",
   "metadata": {},
   "outputs": [
    {
     "data": {
      "text/plain": [
       "-181.94269488119693"
      ]
     },
     "execution_count": 231,
     "metadata": {},
     "output_type": "execute_result"
    }
   ],
   "source": [
    "E[0]"
   ]
  },
  {
   "cell_type": "code",
   "execution_count": 232,
   "id": "3750a585",
   "metadata": {},
   "outputs": [],
   "source": [
    "for i in range(len(X_temp)):\n",
    "    Y.append(X_temp2[i] + E[i])"
   ]
  },
  {
   "cell_type": "code",
   "execution_count": 233,
   "id": "12518c6a",
   "metadata": {},
   "outputs": [
    {
     "data": {
      "text/plain": [
       "-209.53470809978145"
      ]
     },
     "execution_count": 233,
     "metadata": {},
     "output_type": "execute_result"
    }
   ],
   "source": [
    "Y[0]"
   ]
  },
  {
   "cell_type": "code",
   "execution_count": null,
   "id": "09a5f951",
   "metadata": {},
   "outputs": [],
   "source": []
  },
  {
   "cell_type": "code",
   "execution_count": null,
   "id": "eb276d53",
   "metadata": {},
   "outputs": [],
   "source": []
  },
  {
   "cell_type": "code",
   "execution_count": 261,
   "id": "94a01c00",
   "metadata": {},
   "outputs": [],
   "source": [
    "import statistics"
   ]
  },
  {
   "cell_type": "code",
   "execution_count": 262,
   "id": "f7fe93f7",
   "metadata": {},
   "outputs": [],
   "source": [
    "n = 50\n",
    "Xavg = statistics.mean(X)\n",
    "Xdelta = list()\n",
    "Xdelta_sq = list()"
   ]
  },
  {
   "cell_type": "code",
   "execution_count": 263,
   "id": "eae0c990",
   "metadata": {},
   "outputs": [],
   "source": [
    "for i in range(len(X)):\n",
    "    Xdelta.append(X[i]-Xavg)"
   ]
  },
  {
   "cell_type": "code",
   "execution_count": 264,
   "id": "b1d59096",
   "metadata": {},
   "outputs": [],
   "source": [
    "for i in range(len(Xdelta)):\n",
    "    Xdelta_sq.append(Xdelta[i]**2)"
   ]
  },
  {
   "cell_type": "code",
   "execution_count": 265,
   "id": "41750338",
   "metadata": {},
   "outputs": [],
   "source": [
    "Xsum = sum(Xdelta_sq)"
   ]
  },
  {
   "cell_type": "code",
   "execution_count": 266,
   "id": "ceb3aa3c",
   "metadata": {},
   "outputs": [],
   "source": [
    "S = 1/(n-1) * Xsum"
   ]
  },
  {
   "cell_type": "code",
   "execution_count": null,
   "id": "2250cda4",
   "metadata": {},
   "outputs": [],
   "source": []
  },
  {
   "cell_type": "code",
   "execution_count": null,
   "id": "e7e23d21",
   "metadata": {},
   "outputs": [],
   "source": [
    "w = list()"
   ]
  },
  {
   "cell_type": "code",
   "execution_count": 268,
   "id": "ae151c4e",
   "metadata": {},
   "outputs": [],
   "source": [
    "const = 1/((n-1)*S)"
   ]
  },
  {
   "cell_type": "code",
   "execution_count": 269,
   "id": "84de0c9c",
   "metadata": {},
   "outputs": [],
   "source": [
    "w = list(map(lambda x: x * const, Xdelta))"
   ]
  },
  {
   "cell_type": "code",
   "execution_count": null,
   "id": "7faa76cc",
   "metadata": {},
   "outputs": [],
   "source": []
  },
  {
   "cell_type": "code",
   "execution_count": 271,
   "id": "cd387639",
   "metadata": {},
   "outputs": [],
   "source": [
    "prod = list()"
   ]
  },
  {
   "cell_type": "code",
   "execution_count": 272,
   "id": "8f0e62ad",
   "metadata": {},
   "outputs": [],
   "source": [
    "for i in range(len(w)):\n",
    "    prod.append(w[i] * Y[i])"
   ]
  },
  {
   "cell_type": "code",
   "execution_count": 274,
   "id": "73c34bb3",
   "metadata": {},
   "outputs": [],
   "source": [
    "B1 = sum(prod)"
   ]
  },
  {
   "cell_type": "code",
   "execution_count": null,
   "id": "3cfe4b88",
   "metadata": {},
   "outputs": [],
   "source": []
  },
  {
   "cell_type": "code",
   "execution_count": 275,
   "id": "705c2554",
   "metadata": {},
   "outputs": [],
   "source": [
    "Yavg = statistics.mean(Y)"
   ]
  },
  {
   "cell_type": "code",
   "execution_count": 277,
   "id": "0f352653",
   "metadata": {},
   "outputs": [],
   "source": [
    "B0 = Yavg - B1*Xavg"
   ]
  },
  {
   "cell_type": "code",
   "execution_count": null,
   "id": "67372a53",
   "metadata": {},
   "outputs": [],
   "source": []
  },
  {
   "cell_type": "code",
   "execution_count": 279,
   "id": "baec7af0",
   "metadata": {},
   "outputs": [],
   "source": [
    "#Yhat = B0 + B1*xi\n",
    "Yhat = list()"
   ]
  },
  {
   "cell_type": "code",
   "execution_count": 278,
   "id": "7082cfb0",
   "metadata": {},
   "outputs": [],
   "source": [
    "B1X = list(map(lambda x: x * B1, X))"
   ]
  },
  {
   "cell_type": "code",
   "execution_count": 281,
   "id": "2bd14534",
   "metadata": {},
   "outputs": [],
   "source": [
    "for i in range(len(X)):\n",
    "    Yhat.append(B0 + B1X[i])"
   ]
  },
  {
   "cell_type": "code",
   "execution_count": null,
   "id": "3c0e0d2c",
   "metadata": {},
   "outputs": [],
   "source": []
  },
  {
   "cell_type": "code",
   "execution_count": 293,
   "id": "8359f54e",
   "metadata": {},
   "outputs": [],
   "source": [
    "Yhat_delta = list()\n",
    "Yhat_delta_sq = list()"
   ]
  },
  {
   "cell_type": "code",
   "execution_count": 294,
   "id": "133c7b26",
   "metadata": {},
   "outputs": [],
   "source": [
    "for i in range(len(Yhat)):\n",
    "    Yhat_delta.append(Yhat[i]-Yavg)"
   ]
  },
  {
   "cell_type": "code",
   "execution_count": 295,
   "id": "7e6918a8",
   "metadata": {},
   "outputs": [],
   "source": [
    "for i in range(len(Yhat_delta)):\n",
    "    Yhat_delta_sq.append(Yhat_delta[i]**2)"
   ]
  },
  {
   "cell_type": "code",
   "execution_count": 296,
   "id": "8a8d88a6",
   "metadata": {},
   "outputs": [],
   "source": [
    "RSS = sum(Yhat_delta_sq)"
   ]
  },
  {
   "cell_type": "code",
   "execution_count": null,
   "id": "22f4607a",
   "metadata": {},
   "outputs": [],
   "source": []
  },
  {
   "cell_type": "code",
   "execution_count": 288,
   "id": "9dc6b40d",
   "metadata": {},
   "outputs": [],
   "source": [
    "Ydelta = list()\n",
    "Ydelta_sq = list()"
   ]
  },
  {
   "cell_type": "code",
   "execution_count": 289,
   "id": "0dfb642c",
   "metadata": {},
   "outputs": [],
   "source": [
    "for i in range(len(Y)):\n",
    "    Ydelta.append(Y[i]-Yavg)"
   ]
  },
  {
   "cell_type": "code",
   "execution_count": 290,
   "id": "6d9017fa",
   "metadata": {},
   "outputs": [],
   "source": [
    "for i in range(len(Ydelta)):\n",
    "    Ydelta_sq.append(Ydelta[i]**2)"
   ]
  },
  {
   "cell_type": "code",
   "execution_count": 298,
   "id": "3f4783b9",
   "metadata": {},
   "outputs": [],
   "source": [
    "TSS = sum(Ydelta_sq)"
   ]
  },
  {
   "cell_type": "code",
   "execution_count": null,
   "id": "5389279d",
   "metadata": {},
   "outputs": [],
   "source": []
  },
  {
   "cell_type": "code",
   "execution_count": 300,
   "id": "01e136cc",
   "metadata": {},
   "outputs": [
    {
     "data": {
      "text/plain": [
       "0.03019652963773451"
      ]
     },
     "execution_count": 300,
     "metadata": {},
     "output_type": "execute_result"
    }
   ],
   "source": [
    "R2 = RSS/TSS"
   ]
  },
  {
   "cell_type": "code",
   "execution_count": null,
   "id": "99783aa5",
   "metadata": {},
   "outputs": [],
   "source": []
  },
  {
   "cell_type": "code",
   "execution_count": null,
   "id": "5470efec",
   "metadata": {},
   "outputs": [],
   "source": []
  },
  {
   "cell_type": "code",
   "execution_count": 309,
   "id": "2395cc43",
   "metadata": {},
   "outputs": [],
   "source": [
    "import turtle as t"
   ]
  },
  {
   "cell_type": "code",
   "execution_count": 316,
   "id": "60bcbda7",
   "metadata": {},
   "outputs": [
    {
     "data": {
      "text/plain": [
       "<turtle._Screen at 0x12fceaa4c10>"
      ]
     },
     "execution_count": 316,
     "metadata": {},
     "output_type": "execute_result"
    }
   ],
   "source": [
    "t.Screen()"
   ]
  },
  {
   "cell_type": "code",
   "execution_count": 307,
   "id": "aaad0453",
   "metadata": {},
   "outputs": [],
   "source": [
    "t.color('black')\n",
    "t.penup(); t.goto(-300,0); t.pendown(), t.forward(600), t.stamp()\n",
    "t.penup(); t.seth(90); t.goto(0,-300); t.pendown(), t.forward(800), t.stamp()"
   ]
  },
  {
   "cell_type": "code",
   "execution_count": 308,
   "id": "8eb6a66c",
   "metadata": {},
   "outputs": [],
   "source": [
    "t.penup(); t.goto(-400,0)"
   ]
  }
 ],
 "metadata": {
  "kernelspec": {
   "display_name": "Python 3 (ipykernel)",
   "language": "python",
   "name": "python3"
  },
  "language_info": {
   "codemirror_mode": {
    "name": "ipython",
    "version": 3
   },
   "file_extension": ".py",
   "mimetype": "text/x-python",
   "name": "python",
   "nbconvert_exporter": "python",
   "pygments_lexer": "ipython3",
   "version": "3.10.1"
  }
 },
 "nbformat": 4,
 "nbformat_minor": 5
}
