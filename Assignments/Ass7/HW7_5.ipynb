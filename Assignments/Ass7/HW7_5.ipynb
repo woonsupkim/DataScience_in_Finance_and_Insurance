{
 "cells": [
  {
   "cell_type": "markdown",
   "id": "1a614737",
   "metadata": {},
   "source": [
    "### Assignment 7.5\n",
    "### Prepared By: Woon Kim\n",
    "### UNI: wk2371\n",
    "### Course: ACTU 5841\n",
    "### Date: March 20 2022"
   ]
  },
  {
   "cell_type": "code",
   "execution_count": 1,
   "id": "30ef50c6",
   "metadata": {},
   "outputs": [],
   "source": [
    "#Importing libraries\n",
    "import pandas as pd\n",
    "import numpy as np\n",
    "import matplotlib.pyplot as plt\n",
    "from numpy.random import default_rng\n",
    "\n",
    "from sklearn.neighbors import KNeighborsClassifier"
   ]
  },
  {
   "cell_type": "code",
   "execution_count": 2,
   "id": "96492f8e",
   "metadata": {},
   "outputs": [],
   "source": [
    "X1 = np.arange(0,11,1)\n",
    "X2 = np.arange(0,11,1)"
   ]
  },
  {
   "cell_type": "code",
   "execution_count": 3,
   "id": "b3f8c8c6",
   "metadata": {},
   "outputs": [
    {
     "data": {
      "text/plain": [
       "4.4559788891106304"
      ]
     },
     "execution_count": 3,
     "metadata": {},
     "output_type": "execute_result"
    }
   ],
   "source": [
    "min(X1+np.sin(X2)-5)\n",
    "max(X1+np.sin(X2)-5)"
   ]
  },
  {
   "cell_type": "code",
   "execution_count": 4,
   "id": "0b919fdf",
   "metadata": {},
   "outputs": [],
   "source": [
    "x1, x2 = grid = np.meshgrid(np.arange(0, 11), np.arange(-5, 6)) "
   ]
  },
  {
   "cell_type": "code",
   "execution_count": 5,
   "id": "1b5d8cf4",
   "metadata": {},
   "outputs": [
    {
     "data": {
      "image/png": "[encoded data removed]",
      "text/plain": [
       "<Figure size 432x288 with 1 Axes>"
      ]
     },
     "metadata": {
      "needs_background": "light"
     },
     "output_type": "display_data"
    }
   ],
   "source": [
    "plt.scatter(x1, x2, s=0.5)\n",
    "plt.plot(X1+np.sin(X2)-5)\n",
    "\n",
    "plt.show()"
   ]
  },
  {
   "cell_type": "code",
   "execution_count": 6,
   "id": "37b56506",
   "metadata": {},
   "outputs": [],
   "source": [
    "sin = []\n",
    "for i in np.arange(0,11,1):\n",
    "    sin.append(X1+np.sin(X2)-5)    "
   ]
  },
  {
   "cell_type": "code",
   "execution_count": 7,
   "id": "f929b38c",
   "metadata": {},
   "outputs": [],
   "source": [
    "sin = np.array(sin)\n",
    "xx2 = np.reshape(np.stack((x1.ravel(),x2.ravel(),sin.ravel().ravel()),axis=1),(-1,3))"
   ]
  },
  {
   "cell_type": "code",
   "execution_count": 8,
   "id": "d735f06c",
   "metadata": {},
   "outputs": [
    {
     "data": {
      "text/html": [
       "<div>\n",
       "<style scoped>\n",
       "    .dataframe tbody tr th:only-of-type {\n",
       "        vertical-align: middle;\n",
       "    }\n",
       "\n",
       "    .dataframe tbody tr th {\n",
       "        vertical-align: top;\n",
       "    }\n",
       "\n",
       "    .dataframe thead th {\n",
       "        text-align: right;\n",
       "    }\n",
       "</style>\n",
       "<table border=\"1\" class=\"dataframe\">\n",
       "  <thead>\n",
       "    <tr style=\"text-align: right;\">\n",
       "      <th></th>\n",
       "      <th>X1</th>\n",
       "      <th>X2</th>\n",
       "      <th>SIN_X2</th>\n",
       "      <th>Good</th>\n",
       "      <th>Y=1</th>\n",
       "      <th>Y=2</th>\n",
       "      <th>yhat</th>\n",
       "    </tr>\n",
       "  </thead>\n",
       "  <tbody>\n",
       "    <tr>\n",
       "      <th>0</th>\n",
       "      <td>0.0</td>\n",
       "      <td>-5.0</td>\n",
       "      <td>-5.000000</td>\n",
       "      <td>Y</td>\n",
       "      <td>0.75</td>\n",
       "      <td>0.15</td>\n",
       "      <td>1</td>\n",
       "    </tr>\n",
       "    <tr>\n",
       "      <th>1</th>\n",
       "      <td>1.0</td>\n",
       "      <td>-5.0</td>\n",
       "      <td>-3.158529</td>\n",
       "      <td>N</td>\n",
       "      <td>0.16</td>\n",
       "      <td>0.76</td>\n",
       "      <td>2</td>\n",
       "    </tr>\n",
       "    <tr>\n",
       "      <th>2</th>\n",
       "      <td>2.0</td>\n",
       "      <td>-5.0</td>\n",
       "      <td>-2.090703</td>\n",
       "      <td>N</td>\n",
       "      <td>0.17</td>\n",
       "      <td>0.77</td>\n",
       "      <td>2</td>\n",
       "    </tr>\n",
       "    <tr>\n",
       "      <th>3</th>\n",
       "      <td>3.0</td>\n",
       "      <td>-5.0</td>\n",
       "      <td>-1.858880</td>\n",
       "      <td>N</td>\n",
       "      <td>0.18</td>\n",
       "      <td>0.78</td>\n",
       "      <td>2</td>\n",
       "    </tr>\n",
       "    <tr>\n",
       "      <th>4</th>\n",
       "      <td>4.0</td>\n",
       "      <td>-5.0</td>\n",
       "      <td>-1.756802</td>\n",
       "      <td>N</td>\n",
       "      <td>0.19</td>\n",
       "      <td>0.79</td>\n",
       "      <td>2</td>\n",
       "    </tr>\n",
       "    <tr>\n",
       "      <th>...</th>\n",
       "      <td>...</td>\n",
       "      <td>...</td>\n",
       "      <td>...</td>\n",
       "      <td>...</td>\n",
       "      <td>...</td>\n",
       "      <td>...</td>\n",
       "      <td>...</td>\n",
       "    </tr>\n",
       "    <tr>\n",
       "      <th>116</th>\n",
       "      <td>6.0</td>\n",
       "      <td>5.0</td>\n",
       "      <td>0.720585</td>\n",
       "      <td>Y</td>\n",
       "      <td>0.91</td>\n",
       "      <td>0.31</td>\n",
       "      <td>1</td>\n",
       "    </tr>\n",
       "    <tr>\n",
       "      <th>117</th>\n",
       "      <td>7.0</td>\n",
       "      <td>5.0</td>\n",
       "      <td>2.656987</td>\n",
       "      <td>Y</td>\n",
       "      <td>0.92</td>\n",
       "      <td>0.32</td>\n",
       "      <td>1</td>\n",
       "    </tr>\n",
       "    <tr>\n",
       "      <th>118</th>\n",
       "      <td>8.0</td>\n",
       "      <td>5.0</td>\n",
       "      <td>3.989358</td>\n",
       "      <td>Y</td>\n",
       "      <td>0.93</td>\n",
       "      <td>0.33</td>\n",
       "      <td>1</td>\n",
       "    </tr>\n",
       "    <tr>\n",
       "      <th>119</th>\n",
       "      <td>9.0</td>\n",
       "      <td>5.0</td>\n",
       "      <td>4.412118</td>\n",
       "      <td>Y</td>\n",
       "      <td>0.94</td>\n",
       "      <td>0.34</td>\n",
       "      <td>1</td>\n",
       "    </tr>\n",
       "    <tr>\n",
       "      <th>120</th>\n",
       "      <td>10.0</td>\n",
       "      <td>5.0</td>\n",
       "      <td>4.455979</td>\n",
       "      <td>Y</td>\n",
       "      <td>0.95</td>\n",
       "      <td>0.35</td>\n",
       "      <td>1</td>\n",
       "    </tr>\n",
       "  </tbody>\n",
       "</table>\n",
       "<p>121 rows × 7 columns</p>\n",
       "</div>"
      ],
      "text/plain": [
       "       X1   X2    SIN_X2 Good   Y=1   Y=2  yhat\n",
       "0     0.0 -5.0 -5.000000    Y  0.75  0.15     1\n",
       "1     1.0 -5.0 -3.158529    N  0.16  0.76     2\n",
       "2     2.0 -5.0 -2.090703    N  0.17  0.77     2\n",
       "3     3.0 -5.0 -1.858880    N  0.18  0.78     2\n",
       "4     4.0 -5.0 -1.756802    N  0.19  0.79     2\n",
       "..    ...  ...       ...  ...   ...   ...   ...\n",
       "116   6.0  5.0  0.720585    Y  0.91  0.31     1\n",
       "117   7.0  5.0  2.656987    Y  0.92  0.32     1\n",
       "118   8.0  5.0  3.989358    Y  0.93  0.33     1\n",
       "119   9.0  5.0  4.412118    Y  0.94  0.34     1\n",
       "120  10.0  5.0  4.455979    Y  0.95  0.35     1\n",
       "\n",
       "[121 rows x 7 columns]"
      ]
     },
     "execution_count": 8,
     "metadata": {},
     "output_type": "execute_result"
    }
   ],
   "source": [
    "xx_df = pd.DataFrame(xx2, columns=['X1', 'X2', 'SIN_X2'])\n",
    "xx_df['Good'] = np.where((xx_df['X2'] >= xx_df['SIN_X2']), 'Y', 'N')\n",
    "xx_df['Y=1'] = np.where((xx_df['Good'] == \"Y\"), 0.8+(xx_df['X1']+xx_df['X2'])*0.01, 1-0.8+(xx_df['X1']+xx_df['X2'])*0.01)\n",
    "xx_df['Y=2'] = np.where((xx_df['Good'] == \"N\"), 0.8+(xx_df['X1']+xx_df['X2'])*0.01, 1-0.8+(xx_df['X1']+xx_df['X2'])*0.01)\n",
    "xx_df['yhat'] = np.where((xx_df['Y=1'] > xx_df['Y=2']), 1,2)\n",
    "xx_df"
   ]
  },
  {
   "cell_type": "code",
   "execution_count": 9,
   "id": "a8785156",
   "metadata": {},
   "outputs": [
    {
     "data": {
      "text/plain": [
       "<matplotlib.contour.QuadContourSet at 0x1fb9415df00>"
      ]
     },
     "execution_count": 9,
     "metadata": {},
     "output_type": "execute_result"
    },
    {
     "data": {
      "image/png": "[encoded data removed]",
      "text/plain": [
       "<Figure size 432x288 with 1 Axes>"
      ]
     },
     "metadata": {
      "needs_background": "light"
     },
     "output_type": "display_data"
    }
   ],
   "source": [
    "zz = xx_df['yhat']\n",
    "zz = np.array(zz)\n",
    "zz = zz.reshape(x1.shape)\n",
    "from matplotlib import pyplot\n",
    "pyplot.contourf(x1, x2, zz, cmap='Paired')"
   ]
  },
  {
   "cell_type": "code",
   "execution_count": 10,
   "id": "1fcf6b82",
   "metadata": {},
   "outputs": [
    {
     "name": "stdout",
     "output_type": "stream",
     "text": [
      "0.1499999999999999\n"
     ]
    }
   ],
   "source": [
    "#Question 2\n",
    "xx_df['argmax'] = np.where((xx_df['Y=1'] > xx_df['Y=2']), xx_df['Y=1'], xx_df['Y=2'])\n",
    "Bayes_error = 1-np.sum(xx_df['argmax'])/len(xx_df['argmax'])\n",
    "print(Bayes_error)"
   ]
  },
  {
   "cell_type": "code",
   "execution_count": 11,
   "id": "fb3e691b",
   "metadata": {},
   "outputs": [],
   "source": [
    "#Question 3\n",
    "import random\n",
    "X1 = np.arange(0,11,0.2)\n",
    "X2 = np.arange(0,11,0.2)\n",
    "\n",
    "x1, x2 = grid = np.meshgrid(np.arange(0, 11, 0.2), np.arange(-5, 6, 0.2)) \n",
    "#Y_sample = random.choices(population=[[1], [2]], weights=[0.5, 0.5], k=100)"
   ]
  },
  {
   "cell_type": "code",
   "execution_count": 12,
   "id": "3ba47381",
   "metadata": {},
   "outputs": [],
   "source": [
    "sin2 = []\n",
    "for i in np.arange(0,11,0.2):\n",
    "    sin2.append(X1+np.sin(X2)-5)    "
   ]
  },
  {
   "cell_type": "code",
   "execution_count": 13,
   "id": "789d31e2",
   "metadata": {},
   "outputs": [],
   "source": [
    "sin2 = np.array(sin2)\n",
    "xx3 = np.reshape(np.stack((x1.ravel(),x2.ravel(),sin2.ravel().ravel()),axis=1),(-1,3))"
   ]
  },
  {
   "cell_type": "code",
   "execution_count": 14,
   "id": "e2c9e154",
   "metadata": {},
   "outputs": [
    {
     "data": {
      "text/html": [
       "<div>\n",
       "<style scoped>\n",
       "    .dataframe tbody tr th:only-of-type {\n",
       "        vertical-align: middle;\n",
       "    }\n",
       "\n",
       "    .dataframe tbody tr th {\n",
       "        vertical-align: top;\n",
       "    }\n",
       "\n",
       "    .dataframe thead th {\n",
       "        text-align: right;\n",
       "    }\n",
       "</style>\n",
       "<table border=\"1\" class=\"dataframe\">\n",
       "  <thead>\n",
       "    <tr style=\"text-align: right;\">\n",
       "      <th></th>\n",
       "      <th>X1</th>\n",
       "      <th>X2</th>\n",
       "      <th>SIN_X2</th>\n",
       "      <th>Good</th>\n",
       "      <th>Y=1</th>\n",
       "      <th>Y=2</th>\n",
       "    </tr>\n",
       "  </thead>\n",
       "  <tbody>\n",
       "    <tr>\n",
       "      <th>0</th>\n",
       "      <td>0.0</td>\n",
       "      <td>-5.0</td>\n",
       "      <td>-5.000000</td>\n",
       "      <td>Y</td>\n",
       "      <td>0.750</td>\n",
       "      <td>0.150</td>\n",
       "    </tr>\n",
       "    <tr>\n",
       "      <th>1</th>\n",
       "      <td>0.2</td>\n",
       "      <td>-5.0</td>\n",
       "      <td>-4.601331</td>\n",
       "      <td>N</td>\n",
       "      <td>0.152</td>\n",
       "      <td>0.752</td>\n",
       "    </tr>\n",
       "    <tr>\n",
       "      <th>2</th>\n",
       "      <td>0.4</td>\n",
       "      <td>-5.0</td>\n",
       "      <td>-4.210582</td>\n",
       "      <td>N</td>\n",
       "      <td>0.154</td>\n",
       "      <td>0.754</td>\n",
       "    </tr>\n",
       "    <tr>\n",
       "      <th>3</th>\n",
       "      <td>0.6</td>\n",
       "      <td>-5.0</td>\n",
       "      <td>-3.835358</td>\n",
       "      <td>N</td>\n",
       "      <td>0.156</td>\n",
       "      <td>0.756</td>\n",
       "    </tr>\n",
       "    <tr>\n",
       "      <th>4</th>\n",
       "      <td>0.8</td>\n",
       "      <td>-5.0</td>\n",
       "      <td>-3.482644</td>\n",
       "      <td>N</td>\n",
       "      <td>0.158</td>\n",
       "      <td>0.758</td>\n",
       "    </tr>\n",
       "    <tr>\n",
       "      <th>...</th>\n",
       "      <td>...</td>\n",
       "      <td>...</td>\n",
       "      <td>...</td>\n",
       "      <td>...</td>\n",
       "      <td>...</td>\n",
       "      <td>...</td>\n",
       "    </tr>\n",
       "    <tr>\n",
       "      <th>3020</th>\n",
       "      <td>10.0</td>\n",
       "      <td>5.8</td>\n",
       "      <td>4.455979</td>\n",
       "      <td>Y</td>\n",
       "      <td>0.958</td>\n",
       "      <td>0.358</td>\n",
       "    </tr>\n",
       "    <tr>\n",
       "      <th>3021</th>\n",
       "      <td>10.2</td>\n",
       "      <td>5.8</td>\n",
       "      <td>4.500125</td>\n",
       "      <td>Y</td>\n",
       "      <td>0.960</td>\n",
       "      <td>0.360</td>\n",
       "    </tr>\n",
       "    <tr>\n",
       "      <th>3022</th>\n",
       "      <td>10.4</td>\n",
       "      <td>5.8</td>\n",
       "      <td>4.572174</td>\n",
       "      <td>Y</td>\n",
       "      <td>0.962</td>\n",
       "      <td>0.362</td>\n",
       "    </tr>\n",
       "    <tr>\n",
       "      <th>3023</th>\n",
       "      <td>10.6</td>\n",
       "      <td>5.8</td>\n",
       "      <td>4.677225</td>\n",
       "      <td>Y</td>\n",
       "      <td>0.964</td>\n",
       "      <td>0.364</td>\n",
       "    </tr>\n",
       "    <tr>\n",
       "      <th>3024</th>\n",
       "      <td>10.8</td>\n",
       "      <td>5.8</td>\n",
       "      <td>4.819064</td>\n",
       "      <td>Y</td>\n",
       "      <td>0.966</td>\n",
       "      <td>0.366</td>\n",
       "    </tr>\n",
       "  </tbody>\n",
       "</table>\n",
       "<p>3025 rows × 6 columns</p>\n",
       "</div>"
      ],
      "text/plain": [
       "        X1   X2    SIN_X2 Good    Y=1    Y=2\n",
       "0      0.0 -5.0 -5.000000    Y  0.750  0.150\n",
       "1      0.2 -5.0 -4.601331    N  0.152  0.752\n",
       "2      0.4 -5.0 -4.210582    N  0.154  0.754\n",
       "3      0.6 -5.0 -3.835358    N  0.156  0.756\n",
       "4      0.8 -5.0 -3.482644    N  0.158  0.758\n",
       "...    ...  ...       ...  ...    ...    ...\n",
       "3020  10.0  5.8  4.455979    Y  0.958  0.358\n",
       "3021  10.2  5.8  4.500125    Y  0.960  0.360\n",
       "3022  10.4  5.8  4.572174    Y  0.962  0.362\n",
       "3023  10.6  5.8  4.677225    Y  0.964  0.364\n",
       "3024  10.8  5.8  4.819064    Y  0.966  0.366\n",
       "\n",
       "[3025 rows x 6 columns]"
      ]
     },
     "execution_count": 14,
     "metadata": {},
     "output_type": "execute_result"
    }
   ],
   "source": [
    "x3_df = pd.DataFrame(xx3, columns=['X1', 'X2', 'SIN_X2'])\n",
    "x3_df['Good'] = np.where((x3_df['X2'] >= x3_df['SIN_X2']), 'Y', 'N')\n",
    "x3_df['Y=1'] = np.where((x3_df['Good'] == \"Y\"), 0.8+(x3_df['X1']+x3_df['X2'])*0.01, 1-0.8+(x3_df['X1']+x3_df['X2'])*0.01)\n",
    "x3_df['Y=2'] = np.where((x3_df['Good'] == \"N\"), 0.8+(x3_df['X1']+x3_df['X2'])*0.01, 1-0.8+(x3_df['X1']+x3_df['X2'])*0.01)\n",
    "#x3_df['yhat'] = np.where((x3_df['Y=1'] > x3_df['Y=2']), 1,2)\n",
    "x3_df"
   ]
  },
  {
   "cell_type": "code",
   "execution_count": 15,
   "id": "118c8f87",
   "metadata": {},
   "outputs": [],
   "source": [
    "Y_sample = []\n",
    "for i in np.arange(0,len(x3_df['Y=1'])):\n",
    "    Y_sample.append(random.choices(population=(1, 2), weights=[x3_df.iloc[i,4], x3_df.iloc[i,5]])) \n",
    "    \n",
    "Y_sample2 = []\n",
    "for i in np.arange(0,len(Y_sample)):\n",
    "    Y_sample2.append(Y_sample[i][0])"
   ]
  },
  {
   "cell_type": "code",
   "execution_count": 16,
   "id": "4634ba41",
   "metadata": {},
   "outputs": [
    {
     "data": {
      "text/html": [
       "<div>\n",
       "<style scoped>\n",
       "    .dataframe tbody tr th:only-of-type {\n",
       "        vertical-align: middle;\n",
       "    }\n",
       "\n",
       "    .dataframe tbody tr th {\n",
       "        vertical-align: top;\n",
       "    }\n",
       "\n",
       "    .dataframe thead th {\n",
       "        text-align: right;\n",
       "    }\n",
       "</style>\n",
       "<table border=\"1\" class=\"dataframe\">\n",
       "  <thead>\n",
       "    <tr style=\"text-align: right;\">\n",
       "      <th></th>\n",
       "      <th>X1</th>\n",
       "      <th>X2</th>\n",
       "      <th>SIN_X2</th>\n",
       "      <th>Good</th>\n",
       "      <th>Y=1</th>\n",
       "      <th>Y=2</th>\n",
       "      <th>Y_sample</th>\n",
       "    </tr>\n",
       "  </thead>\n",
       "  <tbody>\n",
       "    <tr>\n",
       "      <th>0</th>\n",
       "      <td>0.0</td>\n",
       "      <td>-5.0</td>\n",
       "      <td>-5.000000</td>\n",
       "      <td>Y</td>\n",
       "      <td>0.750</td>\n",
       "      <td>0.150</td>\n",
       "      <td>1</td>\n",
       "    </tr>\n",
       "    <tr>\n",
       "      <th>1</th>\n",
       "      <td>0.2</td>\n",
       "      <td>-5.0</td>\n",
       "      <td>-4.601331</td>\n",
       "      <td>N</td>\n",
       "      <td>0.152</td>\n",
       "      <td>0.752</td>\n",
       "      <td>2</td>\n",
       "    </tr>\n",
       "    <tr>\n",
       "      <th>2</th>\n",
       "      <td>0.4</td>\n",
       "      <td>-5.0</td>\n",
       "      <td>-4.210582</td>\n",
       "      <td>N</td>\n",
       "      <td>0.154</td>\n",
       "      <td>0.754</td>\n",
       "      <td>2</td>\n",
       "    </tr>\n",
       "    <tr>\n",
       "      <th>3</th>\n",
       "      <td>0.6</td>\n",
       "      <td>-5.0</td>\n",
       "      <td>-3.835358</td>\n",
       "      <td>N</td>\n",
       "      <td>0.156</td>\n",
       "      <td>0.756</td>\n",
       "      <td>2</td>\n",
       "    </tr>\n",
       "    <tr>\n",
       "      <th>4</th>\n",
       "      <td>0.8</td>\n",
       "      <td>-5.0</td>\n",
       "      <td>-3.482644</td>\n",
       "      <td>N</td>\n",
       "      <td>0.158</td>\n",
       "      <td>0.758</td>\n",
       "      <td>1</td>\n",
       "    </tr>\n",
       "    <tr>\n",
       "      <th>...</th>\n",
       "      <td>...</td>\n",
       "      <td>...</td>\n",
       "      <td>...</td>\n",
       "      <td>...</td>\n",
       "      <td>...</td>\n",
       "      <td>...</td>\n",
       "      <td>...</td>\n",
       "    </tr>\n",
       "    <tr>\n",
       "      <th>3020</th>\n",
       "      <td>10.0</td>\n",
       "      <td>5.8</td>\n",
       "      <td>4.455979</td>\n",
       "      <td>Y</td>\n",
       "      <td>0.958</td>\n",
       "      <td>0.358</td>\n",
       "      <td>1</td>\n",
       "    </tr>\n",
       "    <tr>\n",
       "      <th>3021</th>\n",
       "      <td>10.2</td>\n",
       "      <td>5.8</td>\n",
       "      <td>4.500125</td>\n",
       "      <td>Y</td>\n",
       "      <td>0.960</td>\n",
       "      <td>0.360</td>\n",
       "      <td>1</td>\n",
       "    </tr>\n",
       "    <tr>\n",
       "      <th>3022</th>\n",
       "      <td>10.4</td>\n",
       "      <td>5.8</td>\n",
       "      <td>4.572174</td>\n",
       "      <td>Y</td>\n",
       "      <td>0.962</td>\n",
       "      <td>0.362</td>\n",
       "      <td>1</td>\n",
       "    </tr>\n",
       "    <tr>\n",
       "      <th>3023</th>\n",
       "      <td>10.6</td>\n",
       "      <td>5.8</td>\n",
       "      <td>4.677225</td>\n",
       "      <td>Y</td>\n",
       "      <td>0.964</td>\n",
       "      <td>0.364</td>\n",
       "      <td>1</td>\n",
       "    </tr>\n",
       "    <tr>\n",
       "      <th>3024</th>\n",
       "      <td>10.8</td>\n",
       "      <td>5.8</td>\n",
       "      <td>4.819064</td>\n",
       "      <td>Y</td>\n",
       "      <td>0.966</td>\n",
       "      <td>0.366</td>\n",
       "      <td>1</td>\n",
       "    </tr>\n",
       "  </tbody>\n",
       "</table>\n",
       "<p>3025 rows × 7 columns</p>\n",
       "</div>"
      ],
      "text/plain": [
       "        X1   X2    SIN_X2 Good    Y=1    Y=2  Y_sample\n",
       "0      0.0 -5.0 -5.000000    Y  0.750  0.150         1\n",
       "1      0.2 -5.0 -4.601331    N  0.152  0.752         2\n",
       "2      0.4 -5.0 -4.210582    N  0.154  0.754         2\n",
       "3      0.6 -5.0 -3.835358    N  0.156  0.756         2\n",
       "4      0.8 -5.0 -3.482644    N  0.158  0.758         1\n",
       "...    ...  ...       ...  ...    ...    ...       ...\n",
       "3020  10.0  5.8  4.455979    Y  0.958  0.358         1\n",
       "3021  10.2  5.8  4.500125    Y  0.960  0.360         1\n",
       "3022  10.4  5.8  4.572174    Y  0.962  0.362         1\n",
       "3023  10.6  5.8  4.677225    Y  0.964  0.364         1\n",
       "3024  10.8  5.8  4.819064    Y  0.966  0.366         1\n",
       "\n",
       "[3025 rows x 7 columns]"
      ]
     },
     "execution_count": 16,
     "metadata": {},
     "output_type": "execute_result"
    }
   ],
   "source": [
    "x3_df['Y_sample'] = Y_sample2\n",
    "x3_df"
   ]
  },
  {
   "cell_type": "code",
   "execution_count": 17,
   "id": "b3869c79",
   "metadata": {},
   "outputs": [],
   "source": [
    "X = np.hstack((x1.ravel().reshape(-1,1), x2.ravel().reshape(-1,1))) \n",
    "y = x3_df['Y_sample']\n",
    "\n",
    "clas = KNeighborsClassifier(n_neighbors = 5).fit(X,y)\n",
    "y_hat2 = clas.predict(X)"
   ]
  },
  {
   "cell_type": "code",
   "execution_count": 18,
   "id": "44d3092b",
   "metadata": {},
   "outputs": [
    {
     "data": {
      "text/plain": [
       "<matplotlib.contour.QuadContourSet at 0x1fb94267130>"
      ]
     },
     "execution_count": 18,
     "metadata": {},
     "output_type": "execute_result"
    },
    {
     "data": {
      "image/png": "[encoded data removed]",
      "text/plain": [
       "<Figure size 432x288 with 1 Axes>"
      ]
     },
     "metadata": {
      "needs_background": "light"
     },
     "output_type": "display_data"
    }
   ],
   "source": [
    "zz2 = y_hat2\n",
    "zz2 = zz2.reshape(x1.shape)\n",
    "from matplotlib import pyplot\n",
    "pyplot.contourf(x1, x2, zz2, cmap='Paired')"
   ]
  },
  {
   "cell_type": "code",
   "execution_count": 19,
   "id": "cfbc742e",
   "metadata": {},
   "outputs": [],
   "source": [
    "#Question 4\n",
    "from sklearn.model_selection import KFold\n",
    "kf = KFold(n_splits = 5, shuffle = True, random_state = 10)\n",
    "error = []\n",
    "\n",
    "df = pd.DataFrame(list(zip(x3_df['X1'], x3_df['X2'], x3_df['Y_sample'])),\n",
    "                  columns = ['x1', 'x2', 'y'])\n",
    "    \n",
    "for train, test in kf.split(df):\n",
    "    X_train = df.iloc[train].loc[:, df.columns != 'y']\n",
    "    X_train = X_train.squeeze()\n",
    "    X_test = df.iloc[test].loc[:, df.columns != 'y']\n",
    "    y_train = df.iloc[train].loc[:,'y']\n",
    "    y_test = df.iloc[test].loc[:,'y']\n",
    "\n",
    "    clas2 = KNeighborsClassifier(n_neighbors = 5).fit(X_train,y_train)\n",
    "    y_hat3 = clas2.predict(X_test)\n",
    "\n",
    "    error.append(np.mean(y_hat3 != y_test))\n",
    "\n",
    "kf_error = (1/5) * np.sum(error)"
   ]
  },
  {
   "cell_type": "code",
   "execution_count": 20,
   "id": "25e8c29c",
   "metadata": {},
   "outputs": [
    {
     "data": {
      "text/plain": [
       "[0.2578512396694215,\n",
       " 0.2859504132231405,\n",
       " 0.28429752066115704,\n",
       " 0.2793388429752066,\n",
       " 0.30247933884297523]"
      ]
     },
     "execution_count": 20,
     "metadata": {},
     "output_type": "execute_result"
    }
   ],
   "source": [
    "error"
   ]
  },
  {
   "cell_type": "code",
   "execution_count": 21,
   "id": "4f457939",
   "metadata": {},
   "outputs": [
    {
     "data": {
      "text/plain": [
       "0.2819834710743802"
      ]
     },
     "execution_count": 21,
     "metadata": {},
     "output_type": "execute_result"
    }
   ],
   "source": [
    "kf_error"
   ]
  }
 ],
 "metadata": {
  "kernelspec": {
   "display_name": "env_ds_3_10",
   "language": "python",
   "name": "env_ds_3_10"
  },
  "language_info": {
   "codemirror_mode": {
    "name": "ipython",
    "version": 3
   },
   "file_extension": ".py",
   "mimetype": "text/x-python",
   "name": "python",
   "nbconvert_exporter": "python",
   "pygments_lexer": "ipython3",
   "version": "3.10.1"
  }
 },
 "nbformat": 4,
 "nbformat_minor": 5
}
