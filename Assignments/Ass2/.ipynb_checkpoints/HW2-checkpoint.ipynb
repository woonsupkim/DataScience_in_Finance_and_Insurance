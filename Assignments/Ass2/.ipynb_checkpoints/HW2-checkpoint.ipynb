{
 "cells": [
  {
   "cell_type": "markdown",
   "id": "b46682de",
   "metadata": {},
   "source": [
    "### Assignment 2\n",
    "### Prepared By: Woon Kim\n",
    "### UNI: wk2371\n",
    "### Course: ACTU 5841\n",
    "### Date: February 3 2022"
   ]
  },
  {
   "cell_type": "code",
   "execution_count": 1,
   "id": "cc7d37d8",
   "metadata": {},
   "outputs": [],
   "source": [
    "#Reading the data from the CSV file\n",
    "\n",
    "import csv\n",
    "\n",
    "file = open('Lottery_NY_Lotto_Winning_Numbers.csv')\n",
    "\n",
    "csvreader = csv.reader(file)\n",
    "header = []\n",
    "header = next(csvreader)\n",
    "rows = []\n",
    "for row in csvreader:\n",
    "        rows.append(row)\n",
    "        \n",
    "file.close()"
   ]
  },
  {
   "cell_type": "code",
   "execution_count": 2,
   "id": "b36c0169",
   "metadata": {},
   "outputs": [],
   "source": [
    "draws = []\n",
    "\n",
    "row_num = range(len(rows))\n",
    "\n",
    "#Populate 'draws' with winning numbers\n",
    "#Split the winning number entries by empty space\n",
    "#Append the bonus number to 'draws'\n",
    "#Insert row number for each entries on the first column of 'draws'\n",
    "\n",
    "for i in range(len(rows)):\n",
    "    draws.append(rows[i][1])\n",
    "    draws[i] = draws[i].split()\n",
    "    draws[i].append(rows[i][2])\n",
    "    draws[i].insert(0,row_num[i])"
   ]
  },
  {
   "cell_type": "code",
   "execution_count": 3,
   "id": "77d118fc",
   "metadata": {},
   "outputs": [
    {
     "data": {
      "text/plain": [
       "[[0, '04', '09', '15', '42', '48', '58', '5'],\n",
       " [1, '12', '15', '19', '24', '34', '57', '20'],\n",
       " [2, '06', '07', '08', '10', '37', '46', '13'],\n",
       " [3, '14', '16', '46', '47', '53', '55', '39'],\n",
       " [4, '08', '18', '27', '29', '37', '43', '59'],\n",
       " [5, '03', '07', '16', '18', '27', '59', '44'],\n",
       " [6, '08', '15', '17', '32', '36', '47', '23'],\n",
       " [7, '03', '20', '23', '36', '45', '57', '9'],\n",
       " [8, '10', '13', '14', '15', '27', '56', '26'],\n",
       " [9, '03', '08', '15', '33', '34', '37', '22'],\n",
       " [10, '14', '20', '21', '41', '43', '58', '15']]"
      ]
     },
     "execution_count": 3,
     "metadata": {},
     "output_type": "execute_result"
    }
   ],
   "source": [
    "draws[0:11]"
   ]
  },
  {
   "cell_type": "code",
   "execution_count": 4,
   "id": "baaf5218",
   "metadata": {},
   "outputs": [],
   "source": [
    "a = ['2', '02']\n",
    "\n",
    "#Append the value of 'False' to all entries in 'draws'\n",
    "#Update it to 'True' if the number 2 exists in that row\n",
    "for i in range(len(draws)):\n",
    "    draws[i].append(False)\n",
    "    for j in range(1,8):\n",
    "        if draws[i][j] in a:\n",
    "            draws[i][8] = True"
   ]
  },
  {
   "cell_type": "code",
   "execution_count": 5,
   "id": "e84744ba",
   "metadata": {},
   "outputs": [
    {
     "data": {
      "text/plain": [
       "[[0, '04', '09', '15', '42', '48', '58', '5', False],\n",
       " [1, '12', '15', '19', '24', '34', '57', '20', False],\n",
       " [2, '06', '07', '08', '10', '37', '46', '13', False],\n",
       " [3, '14', '16', '46', '47', '53', '55', '39', False],\n",
       " [4, '08', '18', '27', '29', '37', '43', '59', False],\n",
       " [5, '03', '07', '16', '18', '27', '59', '44', False],\n",
       " [6, '08', '15', '17', '32', '36', '47', '23', False],\n",
       " [7, '03', '20', '23', '36', '45', '57', '9', False],\n",
       " [8, '10', '13', '14', '15', '27', '56', '26', False],\n",
       " [9, '03', '08', '15', '33', '34', '37', '22', False],\n",
       " [10, '14', '20', '21', '41', '43', '58', '15', False]]"
      ]
     },
     "execution_count": 5,
     "metadata": {},
     "output_type": "execute_result"
    }
   ],
   "source": [
    "draws[0:11]"
   ]
  },
  {
   "cell_type": "code",
   "execution_count": 6,
   "id": "0db0b80a",
   "metadata": {},
   "outputs": [],
   "source": [
    "index = []\n",
    "\n",
    "#Identify the row numbers of entries that had '2' in the winning numbers or bonus #\n",
    "for i in range(len(draws)):\n",
    "    if draws[i][8] == True:\n",
    "        index.append(draws[i][0])"
   ]
  },
  {
   "cell_type": "code",
   "execution_count": 7,
   "id": "a3b19cce",
   "metadata": {},
   "outputs": [],
   "source": [
    "gap = []\n",
    "\n",
    "#Starting from the second index, calculate the gap by finding the difference with the previous index - 1\n",
    "#then sort\n",
    "for i in range(1, len(index)):\n",
    "    gap.append(index[i] - index[i-1]-1)\n",
    "gap.sort()"
   ]
  },
  {
   "cell_type": "code",
   "execution_count": 8,
   "id": "a426652f",
   "metadata": {},
   "outputs": [],
   "source": [
    "import collections\n",
    "\n",
    "#summarize the frequency of occurrence for each gap value\n",
    "frequency = collections.Counter(gap)\n",
    "\n",
    "gap = list(frequency.keys())\n",
    "count = list(frequency.values())\n",
    "\n",
    "#calculate the percentage of each gap value\n",
    "total = sum(count)\n",
    "percent = list(map(lambda x: x / total, count))"
   ]
  },
  {
   "cell_type": "code",
   "execution_count": 9,
   "id": "83a27a95",
   "metadata": {},
   "outputs": [
    {
     "data": {
      "text/plain": [
       "Counter({0: 28,\n",
       "         1: 27,\n",
       "         2: 21,\n",
       "         3: 12,\n",
       "         4: 24,\n",
       "         5: 15,\n",
       "         6: 12,\n",
       "         7: 10,\n",
       "         8: 10,\n",
       "         9: 11,\n",
       "         10: 10,\n",
       "         11: 8,\n",
       "         12: 4,\n",
       "         13: 5,\n",
       "         14: 7,\n",
       "         15: 3,\n",
       "         16: 2,\n",
       "         17: 4,\n",
       "         18: 6,\n",
       "         19: 2,\n",
       "         20: 4,\n",
       "         21: 1,\n",
       "         22: 1,\n",
       "         23: 1,\n",
       "         25: 1,\n",
       "         26: 1,\n",
       "         27: 1,\n",
       "         28: 1,\n",
       "         29: 1,\n",
       "         30: 2,\n",
       "         32: 1,\n",
       "         33: 1,\n",
       "         34: 1,\n",
       "         37: 1,\n",
       "         38: 1,\n",
       "         41: 1})"
      ]
     },
     "execution_count": 9,
     "metadata": {},
     "output_type": "execute_result"
    }
   ],
   "source": [
    "frequency"
   ]
  },
  {
   "cell_type": "code",
   "execution_count": 10,
   "id": "15fb1c4f",
   "metadata": {},
   "outputs": [],
   "source": [
    "header = [\"GAP\", \"COUNT\", \"PERCENT\"]\n",
    "final = []\n",
    "\n",
    "count_sum = 0\n",
    "percent_sum = 0\n",
    "\n",
    "#aggregating the occurrences and percentages with gaps greater than or equal to 10\n",
    "for i in range(10, len(gap)):\n",
    "    count_sum = count_sum + count[i]\n",
    "    percent_sum = percent_sum + percent[i]\n",
    "\n",
    "#formulating a summarized table with gaps 1 ~ 9\n",
    "for i in range(10):\n",
    "    final.append([gap[i], count[i], percent[i]])\n",
    "\n",
    "#one row for aggregation of gaps >= 10 \n",
    "gap[10] = chr(0x2265) + \"10\"\n",
    "count[10] = count_sum\n",
    "percent[10] = percent_sum"
   ]
  },
  {
   "cell_type": "code",
   "execution_count": 11,
   "id": "2346932f",
   "metadata": {},
   "outputs": [
    {
     "data": {
      "text/plain": [
       "[[0, 28, 0.11618257261410789],\n",
       " [1, 27, 0.11203319502074689],\n",
       " [2, 21, 0.08713692946058091],\n",
       " [3, 12, 0.04979253112033195],\n",
       " [4, 24, 0.0995850622406639],\n",
       " [5, 15, 0.06224066390041494],\n",
       " [6, 12, 0.04979253112033195],\n",
       " [7, 10, 0.04149377593360996],\n",
       " [8, 10, 0.04149377593360996],\n",
       " [9, 11, 0.04564315352697095]]"
      ]
     },
     "execution_count": 11,
     "metadata": {},
     "output_type": "execute_result"
    }
   ],
   "source": [
    "final[0:10]"
   ]
  },
  {
   "cell_type": "code",
   "execution_count": 12,
   "id": "f16a1963",
   "metadata": {},
   "outputs": [
    {
     "name": "stdout",
     "output_type": "stream",
     "text": [
      "number = 2\n",
      "GAP  COUNT PERCENT \n",
      "0    28    0.116183\n",
      "1    27    0.112033\n",
      "2    21    0.087137\n",
      "3    12    0.049793\n",
      "4    24    0.099585\n",
      "5    15    0.062241\n",
      "6    12    0.049793\n",
      "7    10    0.041494\n",
      "8    10    0.041494\n",
      "9    11    0.045643\n",
      "≥10  71    0.294606\n"
     ]
    }
   ],
   "source": [
    "#Formating the final summary of results\n",
    "print ('number = 2')\n",
    "print ('%-5s%-6s%-8s' % (header[0], header[1], header[2]))\n",
    "for i in range(0,len(final)+1):\n",
    "    print ('%-5s%-6i%-8f' % (gap[i], count[i], percent[i]))"
   ]
  }
 ],
 "metadata": {
  "kernelspec": {
   "display_name": "Python 3 (ipykernel)",
   "language": "python",
   "name": "python3"
  },
  "language_info": {
   "codemirror_mode": {
    "name": "ipython",
    "version": 3
   },
   "file_extension": ".py",
   "mimetype": "text/x-python",
   "name": "python",
   "nbconvert_exporter": "python",
   "pygments_lexer": "ipython3",
   "version": "3.10.1"
  }
 },
 "nbformat": 4,
 "nbformat_minor": 5
}
